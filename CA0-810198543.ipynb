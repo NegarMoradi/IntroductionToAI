{
 "cells": [
  {
   "cell_type": "markdown",
   "id": "9cfd0e39",
   "metadata": {},
   "source": [
    "# Computer Assignment 0"
   ]
  },
  {
   "cell_type": "markdown",
   "id": "f1369a05",
   "metadata": {},
   "source": [
    "Negar Moradi 810198543\n",
    "    "
   ]
  },
  {
   "cell_type": "markdown",
   "id": "aadd0853",
   "metadata": {},
   "source": [
    "## Introduction"
   ]
  },
  {
   "cell_type": "markdown",
   "id": "93705ba5",
   "metadata": {},
   "source": [
    "#### در این پروژه می خواهیم نواقص یک دیتا را با استفاده از تحلیل های آماری کامل کنیم"
   ]
  },
  {
   "cell_type": "markdown",
   "id": "ed547250",
   "metadata": {},
   "source": [
    "## بخش اول"
   ]
  },
  {
   "cell_type": "code",
   "execution_count": 1,
   "id": "c1f54b22",
   "metadata": {},
   "outputs": [],
   "source": [
    "import pandas as pd\n",
    "DataF = pd.read_csv('FuelConsumptionCo2.csv')"
   ]
  },
  {
   "cell_type": "markdown",
   "id": "dfb09f0a",
   "metadata": {},
   "source": [
    "####  ذخیره میکنیم DataFrame داده ها را در یک read_csv() با استفاده از تابع "
   ]
  },
  {
   "cell_type": "markdown",
   "id": "296e2e38",
   "metadata": {},
   "source": [
    "### head() function"
   ]
  },
  {
   "cell_type": "code",
   "execution_count": 2,
   "id": "8a0c336f",
   "metadata": {},
   "outputs": [
    {
     "data": {
      "text/html": [
       "<div>\n",
       "<style scoped>\n",
       "    .dataframe tbody tr th:only-of-type {\n",
       "        vertical-align: middle;\n",
       "    }\n",
       "\n",
       "    .dataframe tbody tr th {\n",
       "        vertical-align: top;\n",
       "    }\n",
       "\n",
       "    .dataframe thead th {\n",
       "        text-align: right;\n",
       "    }\n",
       "</style>\n",
       "<table border=\"1\" class=\"dataframe\">\n",
       "  <thead>\n",
       "    <tr style=\"text-align: right;\">\n",
       "      <th></th>\n",
       "      <th>Unnamed: 0</th>\n",
       "      <th>MODELYEAR</th>\n",
       "      <th>MAKE</th>\n",
       "      <th>MODEL</th>\n",
       "      <th>VEHICLECLASS</th>\n",
       "      <th>ENGINESIZE</th>\n",
       "      <th>CYLINDERS</th>\n",
       "      <th>TRANSMISSION</th>\n",
       "      <th>FUELTYPE</th>\n",
       "      <th>FUELCONSUMPTION_CITY</th>\n",
       "      <th>FUELCONSUMPTION_HWY</th>\n",
       "      <th>FUELCONSUMPTION_COMB</th>\n",
       "      <th>FUELCONSUMPTION_COMB_MPG</th>\n",
       "      <th>CO2EMISSIONS</th>\n",
       "    </tr>\n",
       "  </thead>\n",
       "  <tbody>\n",
       "    <tr>\n",
       "      <th>0</th>\n",
       "      <td>0</td>\n",
       "      <td>2014</td>\n",
       "      <td>ACURA</td>\n",
       "      <td>ILX</td>\n",
       "      <td>COMPACT</td>\n",
       "      <td>2.0</td>\n",
       "      <td>4.0</td>\n",
       "      <td>AS5</td>\n",
       "      <td>Z</td>\n",
       "      <td>9.9</td>\n",
       "      <td>6.7</td>\n",
       "      <td>8.5</td>\n",
       "      <td>33</td>\n",
       "      <td>196.0</td>\n",
       "    </tr>\n",
       "    <tr>\n",
       "      <th>1</th>\n",
       "      <td>1</td>\n",
       "      <td>2014</td>\n",
       "      <td>ACURA</td>\n",
       "      <td>ILX</td>\n",
       "      <td>COMPACT</td>\n",
       "      <td>2.4</td>\n",
       "      <td>4.0</td>\n",
       "      <td>M6</td>\n",
       "      <td>Z</td>\n",
       "      <td>11.2</td>\n",
       "      <td>7.7</td>\n",
       "      <td>9.6</td>\n",
       "      <td>29</td>\n",
       "      <td>221.0</td>\n",
       "    </tr>\n",
       "    <tr>\n",
       "      <th>2</th>\n",
       "      <td>2</td>\n",
       "      <td>2014</td>\n",
       "      <td>ACURA</td>\n",
       "      <td>ILX HYBRID</td>\n",
       "      <td>COMPACT</td>\n",
       "      <td>1.5</td>\n",
       "      <td>4.0</td>\n",
       "      <td>AV7</td>\n",
       "      <td>Z</td>\n",
       "      <td>6.0</td>\n",
       "      <td>5.8</td>\n",
       "      <td>5.9</td>\n",
       "      <td>48</td>\n",
       "      <td>136.0</td>\n",
       "    </tr>\n",
       "    <tr>\n",
       "      <th>3</th>\n",
       "      <td>3</td>\n",
       "      <td>2014</td>\n",
       "      <td>ACURA</td>\n",
       "      <td>MDX 4WD</td>\n",
       "      <td>SUV - SMALL</td>\n",
       "      <td>3.5</td>\n",
       "      <td>6.0</td>\n",
       "      <td>AS6</td>\n",
       "      <td>Z</td>\n",
       "      <td>12.7</td>\n",
       "      <td>9.1</td>\n",
       "      <td>11.1</td>\n",
       "      <td>25</td>\n",
       "      <td>NaN</td>\n",
       "    </tr>\n",
       "    <tr>\n",
       "      <th>4</th>\n",
       "      <td>4</td>\n",
       "      <td>2014</td>\n",
       "      <td>ACURA</td>\n",
       "      <td>RDX AWD</td>\n",
       "      <td>SUV - SMALL</td>\n",
       "      <td>3.5</td>\n",
       "      <td>6.0</td>\n",
       "      <td>AS6</td>\n",
       "      <td>Z</td>\n",
       "      <td>12.1</td>\n",
       "      <td>8.7</td>\n",
       "      <td>10.6</td>\n",
       "      <td>27</td>\n",
       "      <td>244.0</td>\n",
       "    </tr>\n",
       "  </tbody>\n",
       "</table>\n",
       "</div>"
      ],
      "text/plain": [
       "   Unnamed: 0  MODELYEAR   MAKE       MODEL VEHICLECLASS  ENGINESIZE  \\\n",
       "0           0       2014  ACURA         ILX      COMPACT         2.0   \n",
       "1           1       2014  ACURA         ILX      COMPACT         2.4   \n",
       "2           2       2014  ACURA  ILX HYBRID      COMPACT         1.5   \n",
       "3           3       2014  ACURA     MDX 4WD  SUV - SMALL         3.5   \n",
       "4           4       2014  ACURA     RDX AWD  SUV - SMALL         3.5   \n",
       "\n",
       "   CYLINDERS TRANSMISSION FUELTYPE  FUELCONSUMPTION_CITY  FUELCONSUMPTION_HWY  \\\n",
       "0        4.0          AS5        Z                   9.9                  6.7   \n",
       "1        4.0           M6        Z                  11.2                  7.7   \n",
       "2        4.0          AV7        Z                   6.0                  5.8   \n",
       "3        6.0          AS6        Z                  12.7                  9.1   \n",
       "4        6.0          AS6        Z                  12.1                  8.7   \n",
       "\n",
       "   FUELCONSUMPTION_COMB  FUELCONSUMPTION_COMB_MPG  CO2EMISSIONS  \n",
       "0                   8.5                        33         196.0  \n",
       "1                   9.6                        29         221.0  \n",
       "2                   5.9                        48         136.0  \n",
       "3                  11.1                        25           NaN  \n",
       "4                  10.6                        27         244.0  "
      ]
     },
     "execution_count": 2,
     "metadata": {},
     "output_type": "execute_result"
    }
   ],
   "source": [
    "DataF.head()"
   ]
  },
  {
   "cell_type": "markdown",
   "id": "07cc9643",
   "metadata": {},
   "source": [
    "#### با استفاده از این تابع می توانیم به تعداد دلخواه از ابتدای داده را نشان دهیم. این تابع آرگومان دارد و آرگومان آن نشان دهنده ی تعداد ردیف های دیتا از ابتدای آن است. مثالی از آن را در زیر مشاهد میکنید"
   ]
  },
  {
   "cell_type": "code",
   "execution_count": 3,
   "id": "8ca375c4",
   "metadata": {},
   "outputs": [
    {
     "data": {
      "text/html": [
       "<div>\n",
       "<style scoped>\n",
       "    .dataframe tbody tr th:only-of-type {\n",
       "        vertical-align: middle;\n",
       "    }\n",
       "\n",
       "    .dataframe tbody tr th {\n",
       "        vertical-align: top;\n",
       "    }\n",
       "\n",
       "    .dataframe thead th {\n",
       "        text-align: right;\n",
       "    }\n",
       "</style>\n",
       "<table border=\"1\" class=\"dataframe\">\n",
       "  <thead>\n",
       "    <tr style=\"text-align: right;\">\n",
       "      <th></th>\n",
       "      <th>Unnamed: 0</th>\n",
       "      <th>MODELYEAR</th>\n",
       "      <th>MAKE</th>\n",
       "      <th>MODEL</th>\n",
       "      <th>VEHICLECLASS</th>\n",
       "      <th>ENGINESIZE</th>\n",
       "      <th>CYLINDERS</th>\n",
       "      <th>TRANSMISSION</th>\n",
       "      <th>FUELTYPE</th>\n",
       "      <th>FUELCONSUMPTION_CITY</th>\n",
       "      <th>FUELCONSUMPTION_HWY</th>\n",
       "      <th>FUELCONSUMPTION_COMB</th>\n",
       "      <th>FUELCONSUMPTION_COMB_MPG</th>\n",
       "      <th>CO2EMISSIONS</th>\n",
       "    </tr>\n",
       "  </thead>\n",
       "  <tbody>\n",
       "    <tr>\n",
       "      <th>0</th>\n",
       "      <td>0</td>\n",
       "      <td>2014</td>\n",
       "      <td>ACURA</td>\n",
       "      <td>ILX</td>\n",
       "      <td>COMPACT</td>\n",
       "      <td>2.0</td>\n",
       "      <td>4.0</td>\n",
       "      <td>AS5</td>\n",
       "      <td>Z</td>\n",
       "      <td>9.9</td>\n",
       "      <td>6.7</td>\n",
       "      <td>8.5</td>\n",
       "      <td>33</td>\n",
       "      <td>196.0</td>\n",
       "    </tr>\n",
       "    <tr>\n",
       "      <th>1</th>\n",
       "      <td>1</td>\n",
       "      <td>2014</td>\n",
       "      <td>ACURA</td>\n",
       "      <td>ILX</td>\n",
       "      <td>COMPACT</td>\n",
       "      <td>2.4</td>\n",
       "      <td>4.0</td>\n",
       "      <td>M6</td>\n",
       "      <td>Z</td>\n",
       "      <td>11.2</td>\n",
       "      <td>7.7</td>\n",
       "      <td>9.6</td>\n",
       "      <td>29</td>\n",
       "      <td>221.0</td>\n",
       "    </tr>\n",
       "    <tr>\n",
       "      <th>2</th>\n",
       "      <td>2</td>\n",
       "      <td>2014</td>\n",
       "      <td>ACURA</td>\n",
       "      <td>ILX HYBRID</td>\n",
       "      <td>COMPACT</td>\n",
       "      <td>1.5</td>\n",
       "      <td>4.0</td>\n",
       "      <td>AV7</td>\n",
       "      <td>Z</td>\n",
       "      <td>6.0</td>\n",
       "      <td>5.8</td>\n",
       "      <td>5.9</td>\n",
       "      <td>48</td>\n",
       "      <td>136.0</td>\n",
       "    </tr>\n",
       "  </tbody>\n",
       "</table>\n",
       "</div>"
      ],
      "text/plain": [
       "   Unnamed: 0  MODELYEAR   MAKE       MODEL VEHICLECLASS  ENGINESIZE  \\\n",
       "0           0       2014  ACURA         ILX      COMPACT         2.0   \n",
       "1           1       2014  ACURA         ILX      COMPACT         2.4   \n",
       "2           2       2014  ACURA  ILX HYBRID      COMPACT         1.5   \n",
       "\n",
       "   CYLINDERS TRANSMISSION FUELTYPE  FUELCONSUMPTION_CITY  FUELCONSUMPTION_HWY  \\\n",
       "0        4.0          AS5        Z                   9.9                  6.7   \n",
       "1        4.0           M6        Z                  11.2                  7.7   \n",
       "2        4.0          AV7        Z                   6.0                  5.8   \n",
       "\n",
       "   FUELCONSUMPTION_COMB  FUELCONSUMPTION_COMB_MPG  CO2EMISSIONS  \n",
       "0                   8.5                        33         196.0  \n",
       "1                   9.6                        29         221.0  \n",
       "2                   5.9                        48         136.0  "
      ]
     },
     "execution_count": 3,
     "metadata": {},
     "output_type": "execute_result"
    }
   ],
   "source": [
    "DataF.head(3)"
   ]
  },
  {
   "cell_type": "markdown",
   "id": "5498fd72",
   "metadata": {},
   "source": [
    "#### به طور پیش فرض آرگومان برابر 5 است و همانطور که میبینید در قسمت اول 5 ردیف از ابتدای دیتا نشان داده شد و در قسمت بعد که آرگومان را 3 قرار دادیم 3 ردیف اول نشان داده شد."
   ]
  },
  {
   "cell_type": "markdown",
   "id": "135647e1",
   "metadata": {},
   "source": [
    "### tail() function"
   ]
  },
  {
   "cell_type": "code",
   "execution_count": 4,
   "id": "4d028d18",
   "metadata": {},
   "outputs": [
    {
     "data": {
      "text/html": [
       "<div>\n",
       "<style scoped>\n",
       "    .dataframe tbody tr th:only-of-type {\n",
       "        vertical-align: middle;\n",
       "    }\n",
       "\n",
       "    .dataframe tbody tr th {\n",
       "        vertical-align: top;\n",
       "    }\n",
       "\n",
       "    .dataframe thead th {\n",
       "        text-align: right;\n",
       "    }\n",
       "</style>\n",
       "<table border=\"1\" class=\"dataframe\">\n",
       "  <thead>\n",
       "    <tr style=\"text-align: right;\">\n",
       "      <th></th>\n",
       "      <th>Unnamed: 0</th>\n",
       "      <th>MODELYEAR</th>\n",
       "      <th>MAKE</th>\n",
       "      <th>MODEL</th>\n",
       "      <th>VEHICLECLASS</th>\n",
       "      <th>ENGINESIZE</th>\n",
       "      <th>CYLINDERS</th>\n",
       "      <th>TRANSMISSION</th>\n",
       "      <th>FUELTYPE</th>\n",
       "      <th>FUELCONSUMPTION_CITY</th>\n",
       "      <th>FUELCONSUMPTION_HWY</th>\n",
       "      <th>FUELCONSUMPTION_COMB</th>\n",
       "      <th>FUELCONSUMPTION_COMB_MPG</th>\n",
       "      <th>CO2EMISSIONS</th>\n",
       "    </tr>\n",
       "  </thead>\n",
       "  <tbody>\n",
       "    <tr>\n",
       "      <th>1062</th>\n",
       "      <td>1062</td>\n",
       "      <td>2014</td>\n",
       "      <td>VOLVO</td>\n",
       "      <td>XC60 AWD</td>\n",
       "      <td>SUV - SMALL</td>\n",
       "      <td>3.0</td>\n",
       "      <td>6.0</td>\n",
       "      <td>AS6</td>\n",
       "      <td>X</td>\n",
       "      <td>13.4</td>\n",
       "      <td>9.8</td>\n",
       "      <td>11.8</td>\n",
       "      <td>24</td>\n",
       "      <td>271.0</td>\n",
       "    </tr>\n",
       "    <tr>\n",
       "      <th>1063</th>\n",
       "      <td>1063</td>\n",
       "      <td>2014</td>\n",
       "      <td>VOLVO</td>\n",
       "      <td>XC60 AWD</td>\n",
       "      <td>SUV - SMALL</td>\n",
       "      <td>3.2</td>\n",
       "      <td>6.0</td>\n",
       "      <td>AS6</td>\n",
       "      <td>X</td>\n",
       "      <td>13.2</td>\n",
       "      <td>9.5</td>\n",
       "      <td>11.5</td>\n",
       "      <td>25</td>\n",
       "      <td>264.0</td>\n",
       "    </tr>\n",
       "    <tr>\n",
       "      <th>1064</th>\n",
       "      <td>1064</td>\n",
       "      <td>2014</td>\n",
       "      <td>VOLVO</td>\n",
       "      <td>XC70 AWD</td>\n",
       "      <td>SUV - SMALL</td>\n",
       "      <td>3.0</td>\n",
       "      <td>6.0</td>\n",
       "      <td>AS6</td>\n",
       "      <td>X</td>\n",
       "      <td>13.4</td>\n",
       "      <td>9.8</td>\n",
       "      <td>11.8</td>\n",
       "      <td>24</td>\n",
       "      <td>271.0</td>\n",
       "    </tr>\n",
       "    <tr>\n",
       "      <th>1065</th>\n",
       "      <td>1065</td>\n",
       "      <td>2014</td>\n",
       "      <td>VOLVO</td>\n",
       "      <td>XC70 AWD</td>\n",
       "      <td>SUV - SMALL</td>\n",
       "      <td>3.2</td>\n",
       "      <td>6.0</td>\n",
       "      <td>AS6</td>\n",
       "      <td>X</td>\n",
       "      <td>12.9</td>\n",
       "      <td>9.3</td>\n",
       "      <td>11.3</td>\n",
       "      <td>25</td>\n",
       "      <td>260.0</td>\n",
       "    </tr>\n",
       "    <tr>\n",
       "      <th>1066</th>\n",
       "      <td>1066</td>\n",
       "      <td>2014</td>\n",
       "      <td>VOLVO</td>\n",
       "      <td>XC90 AWD</td>\n",
       "      <td>SUV - STANDARD</td>\n",
       "      <td>3.2</td>\n",
       "      <td>6.0</td>\n",
       "      <td>AS6</td>\n",
       "      <td>X</td>\n",
       "      <td>14.9</td>\n",
       "      <td>10.2</td>\n",
       "      <td>12.8</td>\n",
       "      <td>22</td>\n",
       "      <td>294.0</td>\n",
       "    </tr>\n",
       "  </tbody>\n",
       "</table>\n",
       "</div>"
      ],
      "text/plain": [
       "      Unnamed: 0  MODELYEAR   MAKE     MODEL    VEHICLECLASS  ENGINESIZE  \\\n",
       "1062        1062       2014  VOLVO  XC60 AWD     SUV - SMALL         3.0   \n",
       "1063        1063       2014  VOLVO  XC60 AWD     SUV - SMALL         3.2   \n",
       "1064        1064       2014  VOLVO  XC70 AWD     SUV - SMALL         3.0   \n",
       "1065        1065       2014  VOLVO  XC70 AWD     SUV - SMALL         3.2   \n",
       "1066        1066       2014  VOLVO  XC90 AWD  SUV - STANDARD         3.2   \n",
       "\n",
       "      CYLINDERS TRANSMISSION FUELTYPE  FUELCONSUMPTION_CITY  \\\n",
       "1062        6.0          AS6        X                  13.4   \n",
       "1063        6.0          AS6        X                  13.2   \n",
       "1064        6.0          AS6        X                  13.4   \n",
       "1065        6.0          AS6        X                  12.9   \n",
       "1066        6.0          AS6        X                  14.9   \n",
       "\n",
       "      FUELCONSUMPTION_HWY  FUELCONSUMPTION_COMB  FUELCONSUMPTION_COMB_MPG  \\\n",
       "1062                  9.8                  11.8                        24   \n",
       "1063                  9.5                  11.5                        25   \n",
       "1064                  9.8                  11.8                        24   \n",
       "1065                  9.3                  11.3                        25   \n",
       "1066                 10.2                  12.8                        22   \n",
       "\n",
       "      CO2EMISSIONS  \n",
       "1062         271.0  \n",
       "1063         264.0  \n",
       "1064         271.0  \n",
       "1065         260.0  \n",
       "1066         294.0  "
      ]
     },
     "execution_count": 4,
     "metadata": {},
     "output_type": "execute_result"
    }
   ],
   "source": [
    "DataF.tail()"
   ]
  },
  {
   "cell_type": "markdown",
   "id": "1fa6e898",
   "metadata": {},
   "source": [
    "#### با استفاده از این تابع می توانیم به تعداد دلخواه از انتهای داده را نشان دهیم. این تابع آرگومان دارد و آرگومان آن نشان دهنده ی تعداد ردیف های دیتا از انتهای آن است. مثالی از آن را در زیر مشاهد میکنید"
   ]
  },
  {
   "cell_type": "code",
   "execution_count": 5,
   "id": "30856d6f",
   "metadata": {},
   "outputs": [
    {
     "data": {
      "text/html": [
       "<div>\n",
       "<style scoped>\n",
       "    .dataframe tbody tr th:only-of-type {\n",
       "        vertical-align: middle;\n",
       "    }\n",
       "\n",
       "    .dataframe tbody tr th {\n",
       "        vertical-align: top;\n",
       "    }\n",
       "\n",
       "    .dataframe thead th {\n",
       "        text-align: right;\n",
       "    }\n",
       "</style>\n",
       "<table border=\"1\" class=\"dataframe\">\n",
       "  <thead>\n",
       "    <tr style=\"text-align: right;\">\n",
       "      <th></th>\n",
       "      <th>Unnamed: 0</th>\n",
       "      <th>MODELYEAR</th>\n",
       "      <th>MAKE</th>\n",
       "      <th>MODEL</th>\n",
       "      <th>VEHICLECLASS</th>\n",
       "      <th>ENGINESIZE</th>\n",
       "      <th>CYLINDERS</th>\n",
       "      <th>TRANSMISSION</th>\n",
       "      <th>FUELTYPE</th>\n",
       "      <th>FUELCONSUMPTION_CITY</th>\n",
       "      <th>FUELCONSUMPTION_HWY</th>\n",
       "      <th>FUELCONSUMPTION_COMB</th>\n",
       "      <th>FUELCONSUMPTION_COMB_MPG</th>\n",
       "      <th>CO2EMISSIONS</th>\n",
       "    </tr>\n",
       "  </thead>\n",
       "  <tbody>\n",
       "    <tr>\n",
       "      <th>1063</th>\n",
       "      <td>1063</td>\n",
       "      <td>2014</td>\n",
       "      <td>VOLVO</td>\n",
       "      <td>XC60 AWD</td>\n",
       "      <td>SUV - SMALL</td>\n",
       "      <td>3.2</td>\n",
       "      <td>6.0</td>\n",
       "      <td>AS6</td>\n",
       "      <td>X</td>\n",
       "      <td>13.2</td>\n",
       "      <td>9.5</td>\n",
       "      <td>11.5</td>\n",
       "      <td>25</td>\n",
       "      <td>264.0</td>\n",
       "    </tr>\n",
       "    <tr>\n",
       "      <th>1064</th>\n",
       "      <td>1064</td>\n",
       "      <td>2014</td>\n",
       "      <td>VOLVO</td>\n",
       "      <td>XC70 AWD</td>\n",
       "      <td>SUV - SMALL</td>\n",
       "      <td>3.0</td>\n",
       "      <td>6.0</td>\n",
       "      <td>AS6</td>\n",
       "      <td>X</td>\n",
       "      <td>13.4</td>\n",
       "      <td>9.8</td>\n",
       "      <td>11.8</td>\n",
       "      <td>24</td>\n",
       "      <td>271.0</td>\n",
       "    </tr>\n",
       "    <tr>\n",
       "      <th>1065</th>\n",
       "      <td>1065</td>\n",
       "      <td>2014</td>\n",
       "      <td>VOLVO</td>\n",
       "      <td>XC70 AWD</td>\n",
       "      <td>SUV - SMALL</td>\n",
       "      <td>3.2</td>\n",
       "      <td>6.0</td>\n",
       "      <td>AS6</td>\n",
       "      <td>X</td>\n",
       "      <td>12.9</td>\n",
       "      <td>9.3</td>\n",
       "      <td>11.3</td>\n",
       "      <td>25</td>\n",
       "      <td>260.0</td>\n",
       "    </tr>\n",
       "    <tr>\n",
       "      <th>1066</th>\n",
       "      <td>1066</td>\n",
       "      <td>2014</td>\n",
       "      <td>VOLVO</td>\n",
       "      <td>XC90 AWD</td>\n",
       "      <td>SUV - STANDARD</td>\n",
       "      <td>3.2</td>\n",
       "      <td>6.0</td>\n",
       "      <td>AS6</td>\n",
       "      <td>X</td>\n",
       "      <td>14.9</td>\n",
       "      <td>10.2</td>\n",
       "      <td>12.8</td>\n",
       "      <td>22</td>\n",
       "      <td>294.0</td>\n",
       "    </tr>\n",
       "  </tbody>\n",
       "</table>\n",
       "</div>"
      ],
      "text/plain": [
       "      Unnamed: 0  MODELYEAR   MAKE     MODEL    VEHICLECLASS  ENGINESIZE  \\\n",
       "1063        1063       2014  VOLVO  XC60 AWD     SUV - SMALL         3.2   \n",
       "1064        1064       2014  VOLVO  XC70 AWD     SUV - SMALL         3.0   \n",
       "1065        1065       2014  VOLVO  XC70 AWD     SUV - SMALL         3.2   \n",
       "1066        1066       2014  VOLVO  XC90 AWD  SUV - STANDARD         3.2   \n",
       "\n",
       "      CYLINDERS TRANSMISSION FUELTYPE  FUELCONSUMPTION_CITY  \\\n",
       "1063        6.0          AS6        X                  13.2   \n",
       "1064        6.0          AS6        X                  13.4   \n",
       "1065        6.0          AS6        X                  12.9   \n",
       "1066        6.0          AS6        X                  14.9   \n",
       "\n",
       "      FUELCONSUMPTION_HWY  FUELCONSUMPTION_COMB  FUELCONSUMPTION_COMB_MPG  \\\n",
       "1063                  9.5                  11.5                        25   \n",
       "1064                  9.8                  11.8                        24   \n",
       "1065                  9.3                  11.3                        25   \n",
       "1066                 10.2                  12.8                        22   \n",
       "\n",
       "      CO2EMISSIONS  \n",
       "1063         264.0  \n",
       "1064         271.0  \n",
       "1065         260.0  \n",
       "1066         294.0  "
      ]
     },
     "execution_count": 5,
     "metadata": {},
     "output_type": "execute_result"
    }
   ],
   "source": [
    "DataF.tail(4)"
   ]
  },
  {
   "cell_type": "markdown",
   "id": "f1b77240",
   "metadata": {},
   "source": [
    "#### به طور پیش فرض آرگومان برابر 5 است و همانطور که میبینید در قسمت اول 5 ردیف از انتهای دیتا نشان داده شد و در قسمت بعد که آرگومان را 4 قرار دادیم 4 ردیف آخر نشان داده شد."
   ]
  },
  {
   "cell_type": "markdown",
   "id": "e375f617",
   "metadata": {},
   "source": [
    "### describe() function"
   ]
  },
  {
   "cell_type": "code",
   "execution_count": 6,
   "id": "830c3f49",
   "metadata": {},
   "outputs": [
    {
     "data": {
      "text/html": [
       "<div>\n",
       "<style scoped>\n",
       "    .dataframe tbody tr th:only-of-type {\n",
       "        vertical-align: middle;\n",
       "    }\n",
       "\n",
       "    .dataframe tbody tr th {\n",
       "        vertical-align: top;\n",
       "    }\n",
       "\n",
       "    .dataframe thead th {\n",
       "        text-align: right;\n",
       "    }\n",
       "</style>\n",
       "<table border=\"1\" class=\"dataframe\">\n",
       "  <thead>\n",
       "    <tr style=\"text-align: right;\">\n",
       "      <th></th>\n",
       "      <th>Unnamed: 0</th>\n",
       "      <th>MODELYEAR</th>\n",
       "      <th>ENGINESIZE</th>\n",
       "      <th>CYLINDERS</th>\n",
       "      <th>FUELCONSUMPTION_CITY</th>\n",
       "      <th>FUELCONSUMPTION_HWY</th>\n",
       "      <th>FUELCONSUMPTION_COMB</th>\n",
       "      <th>FUELCONSUMPTION_COMB_MPG</th>\n",
       "      <th>CO2EMISSIONS</th>\n",
       "    </tr>\n",
       "  </thead>\n",
       "  <tbody>\n",
       "    <tr>\n",
       "      <th>count</th>\n",
       "      <td>1067.000000</td>\n",
       "      <td>1067.0</td>\n",
       "      <td>1040.000000</td>\n",
       "      <td>1033.000000</td>\n",
       "      <td>1067.000000</td>\n",
       "      <td>1067.000000</td>\n",
       "      <td>1067.000000</td>\n",
       "      <td>1067.000000</td>\n",
       "      <td>964.000000</td>\n",
       "    </tr>\n",
       "    <tr>\n",
       "      <th>mean</th>\n",
       "      <td>533.000000</td>\n",
       "      <td>2014.0</td>\n",
       "      <td>3.324038</td>\n",
       "      <td>5.797677</td>\n",
       "      <td>13.296532</td>\n",
       "      <td>9.474602</td>\n",
       "      <td>11.580881</td>\n",
       "      <td>26.441425</td>\n",
       "      <td>256.741701</td>\n",
       "    </tr>\n",
       "    <tr>\n",
       "      <th>std</th>\n",
       "      <td>308.160672</td>\n",
       "      <td>0.0</td>\n",
       "      <td>1.411400</td>\n",
       "      <td>1.807262</td>\n",
       "      <td>4.101253</td>\n",
       "      <td>2.794510</td>\n",
       "      <td>3.485595</td>\n",
       "      <td>7.468702</td>\n",
       "      <td>63.265308</td>\n",
       "    </tr>\n",
       "    <tr>\n",
       "      <th>min</th>\n",
       "      <td>0.000000</td>\n",
       "      <td>2014.0</td>\n",
       "      <td>1.000000</td>\n",
       "      <td>3.000000</td>\n",
       "      <td>4.600000</td>\n",
       "      <td>4.900000</td>\n",
       "      <td>4.700000</td>\n",
       "      <td>11.000000</td>\n",
       "      <td>108.000000</td>\n",
       "    </tr>\n",
       "    <tr>\n",
       "      <th>25%</th>\n",
       "      <td>266.500000</td>\n",
       "      <td>2014.0</td>\n",
       "      <td>2.000000</td>\n",
       "      <td>4.000000</td>\n",
       "      <td>10.250000</td>\n",
       "      <td>7.500000</td>\n",
       "      <td>9.000000</td>\n",
       "      <td>21.000000</td>\n",
       "      <td>209.000000</td>\n",
       "    </tr>\n",
       "    <tr>\n",
       "      <th>50%</th>\n",
       "      <td>533.000000</td>\n",
       "      <td>2014.0</td>\n",
       "      <td>3.300000</td>\n",
       "      <td>6.000000</td>\n",
       "      <td>12.600000</td>\n",
       "      <td>8.800000</td>\n",
       "      <td>10.900000</td>\n",
       "      <td>26.000000</td>\n",
       "      <td>251.000000</td>\n",
       "    </tr>\n",
       "    <tr>\n",
       "      <th>75%</th>\n",
       "      <td>799.500000</td>\n",
       "      <td>2014.0</td>\n",
       "      <td>4.200000</td>\n",
       "      <td>8.000000</td>\n",
       "      <td>15.550000</td>\n",
       "      <td>10.850000</td>\n",
       "      <td>13.350000</td>\n",
       "      <td>31.000000</td>\n",
       "      <td>294.000000</td>\n",
       "    </tr>\n",
       "    <tr>\n",
       "      <th>max</th>\n",
       "      <td>1066.000000</td>\n",
       "      <td>2014.0</td>\n",
       "      <td>8.400000</td>\n",
       "      <td>12.000000</td>\n",
       "      <td>30.200000</td>\n",
       "      <td>20.500000</td>\n",
       "      <td>25.800000</td>\n",
       "      <td>60.000000</td>\n",
       "      <td>437.000000</td>\n",
       "    </tr>\n",
       "  </tbody>\n",
       "</table>\n",
       "</div>"
      ],
      "text/plain": [
       "        Unnamed: 0  MODELYEAR   ENGINESIZE    CYLINDERS  FUELCONSUMPTION_CITY  \\\n",
       "count  1067.000000     1067.0  1040.000000  1033.000000           1067.000000   \n",
       "mean    533.000000     2014.0     3.324038     5.797677             13.296532   \n",
       "std     308.160672        0.0     1.411400     1.807262              4.101253   \n",
       "min       0.000000     2014.0     1.000000     3.000000              4.600000   \n",
       "25%     266.500000     2014.0     2.000000     4.000000             10.250000   \n",
       "50%     533.000000     2014.0     3.300000     6.000000             12.600000   \n",
       "75%     799.500000     2014.0     4.200000     8.000000             15.550000   \n",
       "max    1066.000000     2014.0     8.400000    12.000000             30.200000   \n",
       "\n",
       "       FUELCONSUMPTION_HWY  FUELCONSUMPTION_COMB  FUELCONSUMPTION_COMB_MPG  \\\n",
       "count          1067.000000           1067.000000               1067.000000   \n",
       "mean              9.474602             11.580881                 26.441425   \n",
       "std               2.794510              3.485595                  7.468702   \n",
       "min               4.900000              4.700000                 11.000000   \n",
       "25%               7.500000              9.000000                 21.000000   \n",
       "50%               8.800000             10.900000                 26.000000   \n",
       "75%              10.850000             13.350000                 31.000000   \n",
       "max              20.500000             25.800000                 60.000000   \n",
       "\n",
       "       CO2EMISSIONS  \n",
       "count    964.000000  \n",
       "mean     256.741701  \n",
       "std       63.265308  \n",
       "min      108.000000  \n",
       "25%      209.000000  \n",
       "50%      251.000000  \n",
       "75%      294.000000  \n",
       "max      437.000000  "
      ]
     },
     "execution_count": 6,
     "metadata": {},
     "output_type": "execute_result"
    }
   ],
   "source": [
    "DataF.describe()"
   ]
  },
  {
   "cell_type": "markdown",
   "id": "a230a842",
   "metadata": {},
   "source": [
    "#### این تابع بعضی اطلاعات مثل تعداد، میانگین، انحراف معیار، کوچک ترین مقدار، صدک پایینی، صدک میانی، صدک بالایی و بزرگ ترین مقدار برای هر ستون را نشان می دهد.\n",
    "#### این تابع 3 آرگومان دارد:\n",
    "#### percentile, include, exclude\n",
    "#### آرگومان اول نشان دهنده ی صدک ها که به طور پیش فرض 25 و 50 و 75 هستند. بوسیله ی دومین آرگومان می توان داده های مشخصی را  برای به دست اوردن  هستندNone اطلاعات آن ها در نظر گرفت و بوسیله ی سومین آرگومان می توان داده هایی را در نظر نگرفت. \n",
    "  "
   ]
  },
  {
   "cell_type": "markdown",
   "id": "936becb5",
   "metadata": {},
   "source": [
    "## بخش دوم\n",
    "### info() function"
   ]
  },
  {
   "cell_type": "code",
   "execution_count": 7,
   "id": "f5af7de0",
   "metadata": {},
   "outputs": [
    {
     "name": "stdout",
     "output_type": "stream",
     "text": [
      "<class 'pandas.core.frame.DataFrame'>\n",
      "RangeIndex: 1067 entries, 0 to 1066\n",
      "Data columns (total 14 columns):\n",
      " #   Column                    Non-Null Count  Dtype  \n",
      "---  ------                    --------------  -----  \n",
      " 0   Unnamed: 0                1067 non-null   int64  \n",
      " 1   MODELYEAR                 1067 non-null   int64  \n",
      " 2   MAKE                      1067 non-null   object \n",
      " 3   MODEL                     1058 non-null   object \n",
      " 4   VEHICLECLASS              1067 non-null   object \n",
      " 5   ENGINESIZE                1040 non-null   float64\n",
      " 6   CYLINDERS                 1033 non-null   float64\n",
      " 7   TRANSMISSION              1067 non-null   object \n",
      " 8   FUELTYPE                  996 non-null    object \n",
      " 9   FUELCONSUMPTION_CITY      1067 non-null   float64\n",
      " 10  FUELCONSUMPTION_HWY       1067 non-null   float64\n",
      " 11  FUELCONSUMPTION_COMB      1067 non-null   float64\n",
      " 12  FUELCONSUMPTION_COMB_MPG  1067 non-null   int64  \n",
      " 13  CO2EMISSIONS              964 non-null    float64\n",
      "dtypes: float64(6), int64(3), object(5)\n",
      "memory usage: 95.9+ KB\n"
     ]
    }
   ],
   "source": [
    "DataF.info()"
   ]
  },
  {
   "cell_type": "markdown",
   "id": "ca5a42de",
   "metadata": {},
   "source": [
    "#### همانطور که می بینید این تابع تعداد مقادیر غیرخالی و نوع داده های آن را برای هر ستون نشان میدهد. هم چنین حافظه ی مصرفی را هم نشان میدهد. "
   ]
  },
  {
   "cell_type": "code",
   "execution_count": 8,
   "id": "82257e33",
   "metadata": {},
   "outputs": [
    {
     "data": {
      "text/html": [
       "<div>\n",
       "<style scoped>\n",
       "    .dataframe tbody tr th:only-of-type {\n",
       "        vertical-align: middle;\n",
       "    }\n",
       "\n",
       "    .dataframe tbody tr th {\n",
       "        vertical-align: top;\n",
       "    }\n",
       "\n",
       "    .dataframe thead th {\n",
       "        text-align: right;\n",
       "    }\n",
       "</style>\n",
       "<table border=\"1\" class=\"dataframe\">\n",
       "  <thead>\n",
       "    <tr style=\"text-align: right;\">\n",
       "      <th></th>\n",
       "      <th>Unnamed: 0</th>\n",
       "      <th>MODELYEAR</th>\n",
       "      <th>MAKE</th>\n",
       "      <th>MODEL</th>\n",
       "      <th>VEHICLECLASS</th>\n",
       "      <th>ENGINESIZE</th>\n",
       "      <th>CYLINDERS</th>\n",
       "      <th>TRANSMISSION</th>\n",
       "      <th>FUELTYPE</th>\n",
       "      <th>FUELCONSUMPTION_CITY</th>\n",
       "      <th>FUELCONSUMPTION_HWY</th>\n",
       "      <th>FUELCONSUMPTION_COMB</th>\n",
       "      <th>FUELCONSUMPTION_COMB_MPG</th>\n",
       "      <th>CO2EMISSIONS</th>\n",
       "    </tr>\n",
       "  </thead>\n",
       "  <tbody>\n",
       "    <tr>\n",
       "      <th>0</th>\n",
       "      <td>0</td>\n",
       "      <td>2014</td>\n",
       "      <td>ACURA</td>\n",
       "      <td>ILX</td>\n",
       "      <td>COMPACT</td>\n",
       "      <td>2.0</td>\n",
       "      <td>4.0</td>\n",
       "      <td>AS5</td>\n",
       "      <td>0.0</td>\n",
       "      <td>9.9</td>\n",
       "      <td>6.7</td>\n",
       "      <td>8.5</td>\n",
       "      <td>33</td>\n",
       "      <td>196.0</td>\n",
       "    </tr>\n",
       "    <tr>\n",
       "      <th>1</th>\n",
       "      <td>1</td>\n",
       "      <td>2014</td>\n",
       "      <td>ACURA</td>\n",
       "      <td>ILX</td>\n",
       "      <td>COMPACT</td>\n",
       "      <td>2.4</td>\n",
       "      <td>4.0</td>\n",
       "      <td>M6</td>\n",
       "      <td>0.0</td>\n",
       "      <td>11.2</td>\n",
       "      <td>7.7</td>\n",
       "      <td>9.6</td>\n",
       "      <td>29</td>\n",
       "      <td>221.0</td>\n",
       "    </tr>\n",
       "    <tr>\n",
       "      <th>2</th>\n",
       "      <td>2</td>\n",
       "      <td>2014</td>\n",
       "      <td>ACURA</td>\n",
       "      <td>ILX HYBRID</td>\n",
       "      <td>COMPACT</td>\n",
       "      <td>1.5</td>\n",
       "      <td>4.0</td>\n",
       "      <td>AV7</td>\n",
       "      <td>0.0</td>\n",
       "      <td>6.0</td>\n",
       "      <td>5.8</td>\n",
       "      <td>5.9</td>\n",
       "      <td>48</td>\n",
       "      <td>136.0</td>\n",
       "    </tr>\n",
       "    <tr>\n",
       "      <th>3</th>\n",
       "      <td>3</td>\n",
       "      <td>2014</td>\n",
       "      <td>ACURA</td>\n",
       "      <td>MDX 4WD</td>\n",
       "      <td>SUV - SMALL</td>\n",
       "      <td>3.5</td>\n",
       "      <td>6.0</td>\n",
       "      <td>AS6</td>\n",
       "      <td>0.0</td>\n",
       "      <td>12.7</td>\n",
       "      <td>9.1</td>\n",
       "      <td>11.1</td>\n",
       "      <td>25</td>\n",
       "      <td>NaN</td>\n",
       "    </tr>\n",
       "    <tr>\n",
       "      <th>4</th>\n",
       "      <td>4</td>\n",
       "      <td>2014</td>\n",
       "      <td>ACURA</td>\n",
       "      <td>RDX AWD</td>\n",
       "      <td>SUV - SMALL</td>\n",
       "      <td>3.5</td>\n",
       "      <td>6.0</td>\n",
       "      <td>AS6</td>\n",
       "      <td>0.0</td>\n",
       "      <td>12.1</td>\n",
       "      <td>8.7</td>\n",
       "      <td>10.6</td>\n",
       "      <td>27</td>\n",
       "      <td>244.0</td>\n",
       "    </tr>\n",
       "    <tr>\n",
       "      <th>...</th>\n",
       "      <td>...</td>\n",
       "      <td>...</td>\n",
       "      <td>...</td>\n",
       "      <td>...</td>\n",
       "      <td>...</td>\n",
       "      <td>...</td>\n",
       "      <td>...</td>\n",
       "      <td>...</td>\n",
       "      <td>...</td>\n",
       "      <td>...</td>\n",
       "      <td>...</td>\n",
       "      <td>...</td>\n",
       "      <td>...</td>\n",
       "      <td>...</td>\n",
       "    </tr>\n",
       "    <tr>\n",
       "      <th>1062</th>\n",
       "      <td>1062</td>\n",
       "      <td>2014</td>\n",
       "      <td>VOLVO</td>\n",
       "      <td>XC60 AWD</td>\n",
       "      <td>SUV - SMALL</td>\n",
       "      <td>3.0</td>\n",
       "      <td>6.0</td>\n",
       "      <td>AS6</td>\n",
       "      <td>3.0</td>\n",
       "      <td>13.4</td>\n",
       "      <td>9.8</td>\n",
       "      <td>11.8</td>\n",
       "      <td>24</td>\n",
       "      <td>271.0</td>\n",
       "    </tr>\n",
       "    <tr>\n",
       "      <th>1063</th>\n",
       "      <td>1063</td>\n",
       "      <td>2014</td>\n",
       "      <td>VOLVO</td>\n",
       "      <td>XC60 AWD</td>\n",
       "      <td>SUV - SMALL</td>\n",
       "      <td>3.2</td>\n",
       "      <td>6.0</td>\n",
       "      <td>AS6</td>\n",
       "      <td>3.0</td>\n",
       "      <td>13.2</td>\n",
       "      <td>9.5</td>\n",
       "      <td>11.5</td>\n",
       "      <td>25</td>\n",
       "      <td>264.0</td>\n",
       "    </tr>\n",
       "    <tr>\n",
       "      <th>1064</th>\n",
       "      <td>1064</td>\n",
       "      <td>2014</td>\n",
       "      <td>VOLVO</td>\n",
       "      <td>XC70 AWD</td>\n",
       "      <td>SUV - SMALL</td>\n",
       "      <td>3.0</td>\n",
       "      <td>6.0</td>\n",
       "      <td>AS6</td>\n",
       "      <td>3.0</td>\n",
       "      <td>13.4</td>\n",
       "      <td>9.8</td>\n",
       "      <td>11.8</td>\n",
       "      <td>24</td>\n",
       "      <td>271.0</td>\n",
       "    </tr>\n",
       "    <tr>\n",
       "      <th>1065</th>\n",
       "      <td>1065</td>\n",
       "      <td>2014</td>\n",
       "      <td>VOLVO</td>\n",
       "      <td>XC70 AWD</td>\n",
       "      <td>SUV - SMALL</td>\n",
       "      <td>3.2</td>\n",
       "      <td>6.0</td>\n",
       "      <td>AS6</td>\n",
       "      <td>3.0</td>\n",
       "      <td>12.9</td>\n",
       "      <td>9.3</td>\n",
       "      <td>11.3</td>\n",
       "      <td>25</td>\n",
       "      <td>260.0</td>\n",
       "    </tr>\n",
       "    <tr>\n",
       "      <th>1066</th>\n",
       "      <td>1066</td>\n",
       "      <td>2014</td>\n",
       "      <td>VOLVO</td>\n",
       "      <td>XC90 AWD</td>\n",
       "      <td>SUV - STANDARD</td>\n",
       "      <td>3.2</td>\n",
       "      <td>6.0</td>\n",
       "      <td>AS6</td>\n",
       "      <td>3.0</td>\n",
       "      <td>14.9</td>\n",
       "      <td>10.2</td>\n",
       "      <td>12.8</td>\n",
       "      <td>22</td>\n",
       "      <td>294.0</td>\n",
       "    </tr>\n",
       "  </tbody>\n",
       "</table>\n",
       "<p>1067 rows × 14 columns</p>\n",
       "</div>"
      ],
      "text/plain": [
       "      Unnamed: 0  MODELYEAR   MAKE       MODEL    VEHICLECLASS  ENGINESIZE  \\\n",
       "0              0       2014  ACURA         ILX         COMPACT         2.0   \n",
       "1              1       2014  ACURA         ILX         COMPACT         2.4   \n",
       "2              2       2014  ACURA  ILX HYBRID         COMPACT         1.5   \n",
       "3              3       2014  ACURA     MDX 4WD     SUV - SMALL         3.5   \n",
       "4              4       2014  ACURA     RDX AWD     SUV - SMALL         3.5   \n",
       "...          ...        ...    ...         ...             ...         ...   \n",
       "1062        1062       2014  VOLVO    XC60 AWD     SUV - SMALL         3.0   \n",
       "1063        1063       2014  VOLVO    XC60 AWD     SUV - SMALL         3.2   \n",
       "1064        1064       2014  VOLVO    XC70 AWD     SUV - SMALL         3.0   \n",
       "1065        1065       2014  VOLVO    XC70 AWD     SUV - SMALL         3.2   \n",
       "1066        1066       2014  VOLVO    XC90 AWD  SUV - STANDARD         3.2   \n",
       "\n",
       "      CYLINDERS TRANSMISSION  FUELTYPE  FUELCONSUMPTION_CITY  \\\n",
       "0           4.0          AS5       0.0                   9.9   \n",
       "1           4.0           M6       0.0                  11.2   \n",
       "2           4.0          AV7       0.0                   6.0   \n",
       "3           6.0          AS6       0.0                  12.7   \n",
       "4           6.0          AS6       0.0                  12.1   \n",
       "...         ...          ...       ...                   ...   \n",
       "1062        6.0          AS6       3.0                  13.4   \n",
       "1063        6.0          AS6       3.0                  13.2   \n",
       "1064        6.0          AS6       3.0                  13.4   \n",
       "1065        6.0          AS6       3.0                  12.9   \n",
       "1066        6.0          AS6       3.0                  14.9   \n",
       "\n",
       "      FUELCONSUMPTION_HWY  FUELCONSUMPTION_COMB  FUELCONSUMPTION_COMB_MPG  \\\n",
       "0                     6.7                   8.5                        33   \n",
       "1                     7.7                   9.6                        29   \n",
       "2                     5.8                   5.9                        48   \n",
       "3                     9.1                  11.1                        25   \n",
       "4                     8.7                  10.6                        27   \n",
       "...                   ...                   ...                       ...   \n",
       "1062                  9.8                  11.8                        24   \n",
       "1063                  9.5                  11.5                        25   \n",
       "1064                  9.8                  11.8                        24   \n",
       "1065                  9.3                  11.3                        25   \n",
       "1066                 10.2                  12.8                        22   \n",
       "\n",
       "      CO2EMISSIONS  \n",
       "0            196.0  \n",
       "1            221.0  \n",
       "2            136.0  \n",
       "3              NaN  \n",
       "4            244.0  \n",
       "...            ...  \n",
       "1062         271.0  \n",
       "1063         264.0  \n",
       "1064         271.0  \n",
       "1065         260.0  \n",
       "1066         294.0  \n",
       "\n",
       "[1067 rows x 14 columns]"
      ]
     },
     "execution_count": 8,
     "metadata": {},
     "output_type": "execute_result"
    }
   ],
   "source": [
    "DataF['FUELTYPE'] = DataF['FUELTYPE'].replace(['Z','D','E','X'],[0, 1, 2, 3])\n",
    "DataF"
   ]
  },
  {
   "cell_type": "markdown",
   "id": "15b07a58",
   "metadata": {},
   "source": [
    "#### replace() همانطور که مشاهده میکنید با استفاده از تابع\n",
    "#### قرار دادیم X 3 و به جای  E 2 به جای  ،  D 1 به جای ، z 0مقادیر ستون نوع سوخت را به عدد تبدیل کردیم به این صورت که به جای "
   ]
  },
  {
   "cell_type": "markdown",
   "id": "553ad242",
   "metadata": {},
   "source": [
    "## بخش سوم"
   ]
  },
  {
   "cell_type": "code",
   "execution_count": 9,
   "id": "d996bb7d",
   "metadata": {},
   "outputs": [
    {
     "data": {
      "text/plain": [
       "Unnamed: 0                    0\n",
       "MODELYEAR                     0\n",
       "MAKE                          0\n",
       "MODEL                         9\n",
       "VEHICLECLASS                  0\n",
       "ENGINESIZE                   27\n",
       "CYLINDERS                    34\n",
       "TRANSMISSION                  0\n",
       "FUELTYPE                     71\n",
       "FUELCONSUMPTION_CITY          0\n",
       "FUELCONSUMPTION_HWY           0\n",
       "FUELCONSUMPTION_COMB          0\n",
       "FUELCONSUMPTION_COMB_MPG      0\n",
       "CO2EMISSIONS                103\n",
       "dtype: int64"
      ]
     },
     "execution_count": 9,
     "metadata": {},
     "output_type": "execute_result"
    }
   ],
   "source": [
    "n_na = DataF.isna()\n",
    "n_na.sum()"
   ]
  },
  {
   "cell_type": "markdown",
   "id": "d6980bb5",
   "metadata": {},
   "source": [
    "####    میگذارد False NA میگذارد و به جای مقادیر غیر True به جای مقادیر نامشخص  isna() تابع"
   ]
  },
  {
   "cell_type": "markdown",
   "id": "474408cc",
   "metadata": {},
   "source": [
    "#### های هر ستون را می شمارد True تعداد sum تابع"
   ]
  },
  {
   "cell_type": "code",
   "execution_count": 10,
   "id": "8e51c887",
   "metadata": {},
   "outputs": [],
   "source": [
    "DataF['ENGINESIZE'].fillna(DataF['ENGINESIZE'].mean(), inplace = True)\n",
    "DataF['CYLINDERS'].fillna(DataF['CYLINDERS'].mean(), inplace = True)\n",
    "DataF['FUELTYPE'].fillna(DataF['FUELTYPE'].mean(), inplace = True)\n",
    "DataF['MODEL'].fillna(DataF['MODEL'].mode()[0], inplace = True)"
   ]
  },
  {
   "cell_type": "markdown",
   "id": "19d84b8b",
   "metadata": {},
   "source": [
    "#### مقدار خانه هایی که خالی هستند را با میانگین ستونشان پر کردیم. ستون هدف را پر نکردیم fillna() با استفاده از تابع "
   ]
  },
  {
   "cell_type": "code",
   "execution_count": 11,
   "id": "6c4d6e7a",
   "metadata": {},
   "outputs": [
    {
     "data": {
      "text/plain": [
       "Unnamed: 0                    0\n",
       "MODELYEAR                     0\n",
       "MAKE                          0\n",
       "MODEL                         0\n",
       "VEHICLECLASS                  0\n",
       "ENGINESIZE                    0\n",
       "CYLINDERS                     0\n",
       "TRANSMISSION                  0\n",
       "FUELTYPE                      0\n",
       "FUELCONSUMPTION_CITY          0\n",
       "FUELCONSUMPTION_HWY           0\n",
       "FUELCONSUMPTION_COMB          0\n",
       "FUELCONSUMPTION_COMB_MPG      0\n",
       "CO2EMISSIONS                103\n",
       "dtype: int64"
      ]
     },
     "execution_count": 11,
     "metadata": {},
     "output_type": "execute_result"
    }
   ],
   "source": [
    "DataF.isna().sum()"
   ]
  },
  {
   "cell_type": "markdown",
   "id": "4da8ea95",
   "metadata": {},
   "source": [
    "#### همانطور که در بالا مشاهده کردید تعداد مقادیر نامشخص 0 شدند"
   ]
  },
  {
   "cell_type": "code",
   "execution_count": 12,
   "id": "8cb71cf3",
   "metadata": {},
   "outputs": [],
   "source": [
    "import numpy as np\n",
    "n_DataF = DataF.loc[pd.isnull(DataF[['CO2EMISSIONS']]).any(axis=1)]"
   ]
  },
  {
   "cell_type": "markdown",
   "id": "bb2cb8bb",
   "metadata": {},
   "source": [
    "#### از معایب استفاده از این روش می توان گفت که باعث کاهش واریانس میشود و اینکه ممکن است رابطه ی بین پارامتر ها را در داده های زیاد از بین ببرد از مزایای این روش می توان گفت که نیاز به حذف داده ها با پارامتری نامشخص نیست و می توان آن هارا نگه داشت و هم چنین باعث افزایش دقت و کاهش بسیاری از خطاها میشود چون داده های نامشخص را حذف نمیکنیم "
   ]
  },
  {
   "cell_type": "markdown",
   "id": "15e2762a",
   "metadata": {},
   "source": [
    "#### در دیتای بالا سطرهایی که در ستون هدفشان مقادیر نامشخص داشتند را جدا کردیم. حال این سطرهارا از دیتای اصلی جدا میکنیم."
   ]
  },
  {
   "cell_type": "code",
   "execution_count": 13,
   "id": "a86fbd0b",
   "metadata": {},
   "outputs": [
    {
     "data": {
      "text/html": [
       "<div>\n",
       "<style scoped>\n",
       "    .dataframe tbody tr th:only-of-type {\n",
       "        vertical-align: middle;\n",
       "    }\n",
       "\n",
       "    .dataframe tbody tr th {\n",
       "        vertical-align: top;\n",
       "    }\n",
       "\n",
       "    .dataframe thead th {\n",
       "        text-align: right;\n",
       "    }\n",
       "</style>\n",
       "<table border=\"1\" class=\"dataframe\">\n",
       "  <thead>\n",
       "    <tr style=\"text-align: right;\">\n",
       "      <th></th>\n",
       "      <th>index</th>\n",
       "      <th>Unnamed: 0</th>\n",
       "      <th>MODELYEAR</th>\n",
       "      <th>MAKE</th>\n",
       "      <th>MODEL</th>\n",
       "      <th>VEHICLECLASS</th>\n",
       "      <th>ENGINESIZE</th>\n",
       "      <th>CYLINDERS</th>\n",
       "      <th>TRANSMISSION</th>\n",
       "      <th>FUELTYPE</th>\n",
       "      <th>FUELCONSUMPTION_CITY</th>\n",
       "      <th>FUELCONSUMPTION_HWY</th>\n",
       "      <th>FUELCONSUMPTION_COMB</th>\n",
       "      <th>FUELCONSUMPTION_COMB_MPG</th>\n",
       "      <th>CO2EMISSIONS</th>\n",
       "    </tr>\n",
       "  </thead>\n",
       "  <tbody>\n",
       "    <tr>\n",
       "      <th>0</th>\n",
       "      <td>0</td>\n",
       "      <td>0</td>\n",
       "      <td>2014</td>\n",
       "      <td>ACURA</td>\n",
       "      <td>ILX</td>\n",
       "      <td>COMPACT</td>\n",
       "      <td>2.0</td>\n",
       "      <td>4.0</td>\n",
       "      <td>AS5</td>\n",
       "      <td>0.0</td>\n",
       "      <td>9.9</td>\n",
       "      <td>6.7</td>\n",
       "      <td>8.5</td>\n",
       "      <td>33</td>\n",
       "      <td>196.0</td>\n",
       "    </tr>\n",
       "    <tr>\n",
       "      <th>1</th>\n",
       "      <td>1</td>\n",
       "      <td>1</td>\n",
       "      <td>2014</td>\n",
       "      <td>ACURA</td>\n",
       "      <td>ILX</td>\n",
       "      <td>COMPACT</td>\n",
       "      <td>2.4</td>\n",
       "      <td>4.0</td>\n",
       "      <td>M6</td>\n",
       "      <td>0.0</td>\n",
       "      <td>11.2</td>\n",
       "      <td>7.7</td>\n",
       "      <td>9.6</td>\n",
       "      <td>29</td>\n",
       "      <td>221.0</td>\n",
       "    </tr>\n",
       "    <tr>\n",
       "      <th>2</th>\n",
       "      <td>2</td>\n",
       "      <td>2</td>\n",
       "      <td>2014</td>\n",
       "      <td>ACURA</td>\n",
       "      <td>ILX HYBRID</td>\n",
       "      <td>COMPACT</td>\n",
       "      <td>1.5</td>\n",
       "      <td>4.0</td>\n",
       "      <td>AV7</td>\n",
       "      <td>0.0</td>\n",
       "      <td>6.0</td>\n",
       "      <td>5.8</td>\n",
       "      <td>5.9</td>\n",
       "      <td>48</td>\n",
       "      <td>136.0</td>\n",
       "    </tr>\n",
       "    <tr>\n",
       "      <th>3</th>\n",
       "      <td>4</td>\n",
       "      <td>4</td>\n",
       "      <td>2014</td>\n",
       "      <td>ACURA</td>\n",
       "      <td>RDX AWD</td>\n",
       "      <td>SUV - SMALL</td>\n",
       "      <td>3.5</td>\n",
       "      <td>6.0</td>\n",
       "      <td>AS6</td>\n",
       "      <td>0.0</td>\n",
       "      <td>12.1</td>\n",
       "      <td>8.7</td>\n",
       "      <td>10.6</td>\n",
       "      <td>27</td>\n",
       "      <td>244.0</td>\n",
       "    </tr>\n",
       "    <tr>\n",
       "      <th>4</th>\n",
       "      <td>5</td>\n",
       "      <td>5</td>\n",
       "      <td>2014</td>\n",
       "      <td>ACURA</td>\n",
       "      <td>RLX</td>\n",
       "      <td>MID-SIZE</td>\n",
       "      <td>3.5</td>\n",
       "      <td>6.0</td>\n",
       "      <td>AS6</td>\n",
       "      <td>0.0</td>\n",
       "      <td>11.9</td>\n",
       "      <td>7.7</td>\n",
       "      <td>10.0</td>\n",
       "      <td>28</td>\n",
       "      <td>230.0</td>\n",
       "    </tr>\n",
       "    <tr>\n",
       "      <th>...</th>\n",
       "      <td>...</td>\n",
       "      <td>...</td>\n",
       "      <td>...</td>\n",
       "      <td>...</td>\n",
       "      <td>...</td>\n",
       "      <td>...</td>\n",
       "      <td>...</td>\n",
       "      <td>...</td>\n",
       "      <td>...</td>\n",
       "      <td>...</td>\n",
       "      <td>...</td>\n",
       "      <td>...</td>\n",
       "      <td>...</td>\n",
       "      <td>...</td>\n",
       "      <td>...</td>\n",
       "    </tr>\n",
       "    <tr>\n",
       "      <th>959</th>\n",
       "      <td>1062</td>\n",
       "      <td>1062</td>\n",
       "      <td>2014</td>\n",
       "      <td>VOLVO</td>\n",
       "      <td>XC60 AWD</td>\n",
       "      <td>SUV - SMALL</td>\n",
       "      <td>3.0</td>\n",
       "      <td>6.0</td>\n",
       "      <td>AS6</td>\n",
       "      <td>3.0</td>\n",
       "      <td>13.4</td>\n",
       "      <td>9.8</td>\n",
       "      <td>11.8</td>\n",
       "      <td>24</td>\n",
       "      <td>271.0</td>\n",
       "    </tr>\n",
       "    <tr>\n",
       "      <th>960</th>\n",
       "      <td>1063</td>\n",
       "      <td>1063</td>\n",
       "      <td>2014</td>\n",
       "      <td>VOLVO</td>\n",
       "      <td>XC60 AWD</td>\n",
       "      <td>SUV - SMALL</td>\n",
       "      <td>3.2</td>\n",
       "      <td>6.0</td>\n",
       "      <td>AS6</td>\n",
       "      <td>3.0</td>\n",
       "      <td>13.2</td>\n",
       "      <td>9.5</td>\n",
       "      <td>11.5</td>\n",
       "      <td>25</td>\n",
       "      <td>264.0</td>\n",
       "    </tr>\n",
       "    <tr>\n",
       "      <th>961</th>\n",
       "      <td>1064</td>\n",
       "      <td>1064</td>\n",
       "      <td>2014</td>\n",
       "      <td>VOLVO</td>\n",
       "      <td>XC70 AWD</td>\n",
       "      <td>SUV - SMALL</td>\n",
       "      <td>3.0</td>\n",
       "      <td>6.0</td>\n",
       "      <td>AS6</td>\n",
       "      <td>3.0</td>\n",
       "      <td>13.4</td>\n",
       "      <td>9.8</td>\n",
       "      <td>11.8</td>\n",
       "      <td>24</td>\n",
       "      <td>271.0</td>\n",
       "    </tr>\n",
       "    <tr>\n",
       "      <th>962</th>\n",
       "      <td>1065</td>\n",
       "      <td>1065</td>\n",
       "      <td>2014</td>\n",
       "      <td>VOLVO</td>\n",
       "      <td>XC70 AWD</td>\n",
       "      <td>SUV - SMALL</td>\n",
       "      <td>3.2</td>\n",
       "      <td>6.0</td>\n",
       "      <td>AS6</td>\n",
       "      <td>3.0</td>\n",
       "      <td>12.9</td>\n",
       "      <td>9.3</td>\n",
       "      <td>11.3</td>\n",
       "      <td>25</td>\n",
       "      <td>260.0</td>\n",
       "    </tr>\n",
       "    <tr>\n",
       "      <th>963</th>\n",
       "      <td>1066</td>\n",
       "      <td>1066</td>\n",
       "      <td>2014</td>\n",
       "      <td>VOLVO</td>\n",
       "      <td>XC90 AWD</td>\n",
       "      <td>SUV - STANDARD</td>\n",
       "      <td>3.2</td>\n",
       "      <td>6.0</td>\n",
       "      <td>AS6</td>\n",
       "      <td>3.0</td>\n",
       "      <td>14.9</td>\n",
       "      <td>10.2</td>\n",
       "      <td>12.8</td>\n",
       "      <td>22</td>\n",
       "      <td>294.0</td>\n",
       "    </tr>\n",
       "  </tbody>\n",
       "</table>\n",
       "<p>964 rows × 15 columns</p>\n",
       "</div>"
      ],
      "text/plain": [
       "     index  Unnamed: 0  MODELYEAR   MAKE       MODEL    VEHICLECLASS  \\\n",
       "0        0           0       2014  ACURA         ILX         COMPACT   \n",
       "1        1           1       2014  ACURA         ILX         COMPACT   \n",
       "2        2           2       2014  ACURA  ILX HYBRID         COMPACT   \n",
       "3        4           4       2014  ACURA     RDX AWD     SUV - SMALL   \n",
       "4        5           5       2014  ACURA         RLX        MID-SIZE   \n",
       "..     ...         ...        ...    ...         ...             ...   \n",
       "959   1062        1062       2014  VOLVO    XC60 AWD     SUV - SMALL   \n",
       "960   1063        1063       2014  VOLVO    XC60 AWD     SUV - SMALL   \n",
       "961   1064        1064       2014  VOLVO    XC70 AWD     SUV - SMALL   \n",
       "962   1065        1065       2014  VOLVO    XC70 AWD     SUV - SMALL   \n",
       "963   1066        1066       2014  VOLVO    XC90 AWD  SUV - STANDARD   \n",
       "\n",
       "     ENGINESIZE  CYLINDERS TRANSMISSION  FUELTYPE  FUELCONSUMPTION_CITY  \\\n",
       "0           2.0        4.0          AS5       0.0                   9.9   \n",
       "1           2.4        4.0           M6       0.0                  11.2   \n",
       "2           1.5        4.0          AV7       0.0                   6.0   \n",
       "3           3.5        6.0          AS6       0.0                  12.1   \n",
       "4           3.5        6.0          AS6       0.0                  11.9   \n",
       "..          ...        ...          ...       ...                   ...   \n",
       "959         3.0        6.0          AS6       3.0                  13.4   \n",
       "960         3.2        6.0          AS6       3.0                  13.2   \n",
       "961         3.0        6.0          AS6       3.0                  13.4   \n",
       "962         3.2        6.0          AS6       3.0                  12.9   \n",
       "963         3.2        6.0          AS6       3.0                  14.9   \n",
       "\n",
       "     FUELCONSUMPTION_HWY  FUELCONSUMPTION_COMB  FUELCONSUMPTION_COMB_MPG  \\\n",
       "0                    6.7                   8.5                        33   \n",
       "1                    7.7                   9.6                        29   \n",
       "2                    5.8                   5.9                        48   \n",
       "3                    8.7                  10.6                        27   \n",
       "4                    7.7                  10.0                        28   \n",
       "..                   ...                   ...                       ...   \n",
       "959                  9.8                  11.8                        24   \n",
       "960                  9.5                  11.5                        25   \n",
       "961                  9.8                  11.8                        24   \n",
       "962                  9.3                  11.3                        25   \n",
       "963                 10.2                  12.8                        22   \n",
       "\n",
       "     CO2EMISSIONS  \n",
       "0           196.0  \n",
       "1           221.0  \n",
       "2           136.0  \n",
       "3           244.0  \n",
       "4           230.0  \n",
       "..            ...  \n",
       "959         271.0  \n",
       "960         264.0  \n",
       "961         271.0  \n",
       "962         260.0  \n",
       "963         294.0  \n",
       "\n",
       "[964 rows x 15 columns]"
      ]
     },
     "execution_count": 13,
     "metadata": {},
     "output_type": "execute_result"
    }
   ],
   "source": [
    "DataFt = DataF.dropna(subset = ['CO2EMISSIONS'])\n",
    "DataFt = DataFt.reset_index()\n",
    "DataFt"
   ]
  },
  {
   "cell_type": "markdown",
   "id": "c75966c5",
   "metadata": {},
   "source": [
    "#### همانطور که میبینید داده های نامشخص ستون هدف حذف شدند"
   ]
  },
  {
   "cell_type": "markdown",
   "id": "c04d725d",
   "metadata": {},
   "source": [
    "## بخش چهارم"
   ]
  },
  {
   "cell_type": "code",
   "execution_count": 14,
   "id": "5125fe18",
   "metadata": {},
   "outputs": [
    {
     "name": "stdout",
     "output_type": "stream",
     "text": [
      "CO2EMISSIONS\n",
      "False    16.035272\n",
      "True     10.037819\n",
      "Name: FUELCONSUMPTION_CITY, dtype: float64\n",
      "0.008992910385131836\n"
     ]
    }
   ],
   "source": [
    "import time\n",
    "\n",
    "vt1 = time.time()\n",
    "\n",
    "m1 = DataFt.groupby(DataFt['CO2EMISSIONS'] < 240).mean()['FUELCONSUMPTION_CITY']\n",
    "print(m1)\n",
    "\n",
    "vt2 = time.time()\n",
    "vt = vt2 - vt1\n",
    "\n",
    "print(vt)"
   ]
  },
  {
   "cell_type": "markdown",
   "id": "281e2796",
   "metadata": {},
   "source": [
    "#### بوسیله ی تابع بالا میانگین مقدار مصرف سوخت در شهرها را برای اتومبیل هایی که میزان کربن دی اکسید تولیدیشان از 240 کم تر است به دست آوردیم.(عدد 10) و در زیر این میانگین را برای خودروهایی با کربن دی اکسید تولیدی بیش از 300 هم به دست می آوریم."
   ]
  },
  {
   "cell_type": "code",
   "execution_count": 15,
   "id": "832100fa",
   "metadata": {},
   "outputs": [
    {
     "name": "stdout",
     "output_type": "stream",
     "text": [
      "CO2EMISSIONS\n",
      "False    11.829773\n",
      "True     18.663256\n",
      "Name: FUELCONSUMPTION_CITY, dtype: float64\n"
     ]
    }
   ],
   "source": [
    "print(DataFt.groupby(DataFt['CO2EMISSIONS'] > 300).mean()['FUELCONSUMPTION_CITY'])"
   ]
  },
  {
   "cell_type": "markdown",
   "id": "d666bcf4",
   "metadata": {},
   "source": [
    "#### میانگین بخش بالا 18 شد"
   ]
  },
  {
   "cell_type": "markdown",
   "id": "6d0d2f8c",
   "metadata": {},
   "source": [
    "## بخش پنجم"
   ]
  },
  {
   "cell_type": "code",
   "execution_count": 16,
   "id": "a683b51e",
   "metadata": {},
   "outputs": [
    {
     "name": "stdout",
     "output_type": "stream",
     "text": [
      "10.037819025522042\n",
      "0.020987510681152344\n",
      "18.663255813953487\n"
     ]
    }
   ],
   "source": [
    "import math \n",
    "\n",
    "t1 = time.time()\n",
    "summ = 0\n",
    "n = 0\n",
    "l = len(DataFt)\n",
    "for i in range(l):\n",
    "    if DataFt['CO2EMISSIONS'][i] < 240:\n",
    "        n += 1\n",
    "        summ += DataFt['FUELCONSUMPTION_CITY'][i]\n",
    "\n",
    "m = summ / n\n",
    "print(m)\n",
    "\n",
    "t2 = time.time()\n",
    "\n",
    "t = t2 - t1\n",
    "print(t)\n",
    "\n",
    "sum300 = 0\n",
    "n300 = 0\n",
    "for i in range(l):\n",
    "    if DataFt['CO2EMISSIONS'][i] > 300:\n",
    "        n300 += 1\n",
    "        sum300 += DataFt['FUELCONSUMPTION_CITY'][i]\n",
    "\n",
    "m300 = sum300 / n300\n",
    "print(m300)\n"
   ]
  },
  {
   "cell_type": "markdown",
   "id": "e4d6c08b",
   "metadata": {},
   "source": [
    "####   همانطور که مشاهده میکنید هردو میانگین برابر هستند زمان حالت اول 0.007 ولی زمان حالت دوم 0.019 که نزدیک 3 برابر حالت اول است.استفاده از روش حلقه برنامه را بسیار کندتر میکند"
   ]
  },
  {
   "cell_type": "markdown",
   "id": "27b6e489",
   "metadata": {},
   "source": [
    "## بخش ششم"
   ]
  },
  {
   "cell_type": "markdown",
   "id": "4c99f86a",
   "metadata": {},
   "source": [
    "#### هربخش را به ترتیب نشان میدهیم"
   ]
  },
  {
   "cell_type": "markdown",
   "id": "93c4004d",
   "metadata": {},
   "source": [
    "### :سال تولید"
   ]
  },
  {
   "cell_type": "code",
   "execution_count": 17,
   "id": "5422db6e",
   "metadata": {},
   "outputs": [
    {
     "data": {
      "text/plain": [
       "<AxesSubplot:>"
      ]
     },
     "execution_count": 17,
     "metadata": {},
     "output_type": "execute_result"
    },
    {
     "data": {
      "image/png": "[encoded data removed]",
      "text/plain": [
       "<Figure size 432x288 with 1 Axes>"
      ]
     },
     "metadata": {
      "needs_background": "light"
     },
     "output_type": "display_data"
    }
   ],
   "source": [
    "import matplotlib as mp\n",
    "\n",
    "DataFt['MODELYEAR'].hist()"
   ]
  },
  {
   "cell_type": "markdown",
   "id": "b3889ef1",
   "metadata": {},
   "source": [
    "### :سایز موتور"
   ]
  },
  {
   "cell_type": "code",
   "execution_count": 18,
   "id": "7c6b3a1b",
   "metadata": {},
   "outputs": [
    {
     "data": {
      "text/plain": [
       "<AxesSubplot:>"
      ]
     },
     "execution_count": 18,
     "metadata": {},
     "output_type": "execute_result"
    },
    {
     "data": {
      "image/png": "[encoded data removed]",
      "text/plain": [
       "<Figure size 432x288 with 1 Axes>"
      ]
     },
     "metadata": {
      "needs_background": "light"
     },
     "output_type": "display_data"
    }
   ],
   "source": [
    "DataFt['ENGINESIZE'].hist()"
   ]
  },
  {
   "cell_type": "markdown",
   "id": "a8333903",
   "metadata": {},
   "source": [
    "### :تعداد سیلندر"
   ]
  },
  {
   "cell_type": "code",
   "execution_count": 19,
   "id": "320c2c0c",
   "metadata": {},
   "outputs": [
    {
     "data": {
      "text/plain": [
       "<AxesSubplot:>"
      ]
     },
     "execution_count": 19,
     "metadata": {},
     "output_type": "execute_result"
    },
    {
     "data": {
      "image/png": "[encoded data removed]",
      "text/plain": [
       "<Figure size 432x288 with 1 Axes>"
      ]
     },
     "metadata": {
      "needs_background": "light"
     },
     "output_type": "display_data"
    }
   ],
   "source": [
    "DataFt['CYLINDERS'].hist()"
   ]
  },
  {
   "cell_type": "markdown",
   "id": "cc5f6282",
   "metadata": {},
   "source": [
    "### :مقدار مصرف سوخت در شهرها"
   ]
  },
  {
   "cell_type": "code",
   "execution_count": 20,
   "id": "110d1d6a",
   "metadata": {},
   "outputs": [
    {
     "data": {
      "text/plain": [
       "<AxesSubplot:>"
      ]
     },
     "execution_count": 20,
     "metadata": {},
     "output_type": "execute_result"
    },
    {
     "data": {
      "image/png": "[encoded data removed]",
      "text/plain": [
       "<Figure size 432x288 with 1 Axes>"
      ]
     },
     "metadata": {
      "needs_background": "light"
     },
     "output_type": "display_data"
    }
   ],
   "source": [
    "DataFt['FUELCONSUMPTION_CITY'].hist()"
   ]
  },
  {
   "cell_type": "markdown",
   "id": "7dc06b36",
   "metadata": {},
   "source": [
    "### :مقدار مصرف سوخت در اتوبان ها"
   ]
  },
  {
   "cell_type": "code",
   "execution_count": 21,
   "id": "0fb89c36",
   "metadata": {},
   "outputs": [
    {
     "data": {
      "text/plain": [
       "<AxesSubplot:>"
      ]
     },
     "execution_count": 21,
     "metadata": {},
     "output_type": "execute_result"
    },
    {
     "data": {
      "image/png": "[encoded data removed]",
      "text/plain": [
       "<Figure size 432x288 with 1 Axes>"
      ]
     },
     "metadata": {
      "needs_background": "light"
     },
     "output_type": "display_data"
    }
   ],
   "source": [
    "DataFt['FUELCONSUMPTION_HWY'].hist()"
   ]
  },
  {
   "cell_type": "markdown",
   "id": "560aa0b6",
   "metadata": {},
   "source": [
    "### :مقدار مصرف سوخت ترکیبی(شهر و اتوبان)"
   ]
  },
  {
   "cell_type": "code",
   "execution_count": 22,
   "id": "8867f457",
   "metadata": {},
   "outputs": [
    {
     "data": {
      "text/plain": [
       "<AxesSubplot:>"
      ]
     },
     "execution_count": 22,
     "metadata": {},
     "output_type": "execute_result"
    },
    {
     "data": {
      "image/png": "[encoded data removed]",
      "text/plain": [
       "<Figure size 432x288 with 1 Axes>"
      ]
     },
     "metadata": {
      "needs_background": "light"
     },
     "output_type": "display_data"
    }
   ],
   "source": [
    "DataFt['FUELCONSUMPTION_COMB'].hist()"
   ]
  },
  {
   "cell_type": "markdown",
   "id": "f404c777",
   "metadata": {},
   "source": [
    "### :مقدار مصرف سوخت ترکیبی در واحد مایل/گالن"
   ]
  },
  {
   "cell_type": "code",
   "execution_count": 23,
   "id": "87478a11",
   "metadata": {},
   "outputs": [
    {
     "data": {
      "text/plain": [
       "<AxesSubplot:>"
      ]
     },
     "execution_count": 23,
     "metadata": {},
     "output_type": "execute_result"
    },
    {
     "data": {
      "image/png": "[encoded data removed]",
      "text/plain": [
       "<Figure size 432x288 with 1 Axes>"
      ]
     },
     "metadata": {
      "needs_background": "light"
     },
     "output_type": "display_data"
    }
   ],
   "source": [
    "DataFt['FUELCONSUMPTION_COMB_MPG'].hist()"
   ]
  },
  {
   "cell_type": "markdown",
   "id": "3e471b34",
   "metadata": {},
   "source": [
    "### :مقدار کربن دی اکسید خروجی(هدف)"
   ]
  },
  {
   "cell_type": "code",
   "execution_count": 24,
   "id": "fb1a5907",
   "metadata": {},
   "outputs": [
    {
     "data": {
      "text/plain": [
       "<AxesSubplot:>"
      ]
     },
     "execution_count": 24,
     "metadata": {},
     "output_type": "execute_result"
    },
    {
     "data": {
      "image/png": "[encoded data removed]",
      "text/plain": [
       "<Figure size 432x288 with 1 Axes>"
      ]
     },
     "metadata": {
      "needs_background": "light"
     },
     "output_type": "display_data"
    }
   ],
   "source": [
    "DataFt['CO2EMISSIONS'].hist()"
   ]
  },
  {
   "cell_type": "markdown",
   "id": "a2e548bc",
   "metadata": {},
   "source": [
    "## بخش هفتم"
   ]
  },
  {
   "cell_type": "markdown",
   "id": "77fe5328",
   "metadata": {},
   "source": [
    "#### نرمال سازی داده ها روشی است که داده هایی را که در یک دامنه نیستند در یک دانه مشابه قرار میدهد. بعضی از ویژگی های داده ها ممکن است در دامنه متفاوتی قرار داشته باشند که این تفاوت در مقیاس های زیاد باعث بوجود آمدن مشکلاتی می شود. برای جلوگیری از این مشکلات از نرمال سازی داده ها استفاده میکنیم. نرمال سازی داده ها روش های گوناگونی دارد که در این بخش ما ابتدا میانگین داده را از آن کم کرده و بر انحراف معیار تقسیم میکنیم که در زیر نشان دادیم \n"
   ]
  },
  {
   "cell_type": "code",
   "execution_count": 25,
   "id": "7463e009",
   "metadata": {},
   "outputs": [
    {
     "data": {
      "text/html": [
       "<div>\n",
       "<style scoped>\n",
       "    .dataframe tbody tr th:only-of-type {\n",
       "        vertical-align: middle;\n",
       "    }\n",
       "\n",
       "    .dataframe tbody tr th {\n",
       "        vertical-align: top;\n",
       "    }\n",
       "\n",
       "    .dataframe thead th {\n",
       "        text-align: right;\n",
       "    }\n",
       "</style>\n",
       "<table border=\"1\" class=\"dataframe\">\n",
       "  <thead>\n",
       "    <tr style=\"text-align: right;\">\n",
       "      <th></th>\n",
       "      <th>index</th>\n",
       "      <th>Unnamed: 0</th>\n",
       "      <th>MODELYEAR</th>\n",
       "      <th>MAKE</th>\n",
       "      <th>MODEL</th>\n",
       "      <th>VEHICLECLASS</th>\n",
       "      <th>ENGINESIZE</th>\n",
       "      <th>CYLINDERS</th>\n",
       "      <th>TRANSMISSION</th>\n",
       "      <th>FUELTYPE</th>\n",
       "      <th>FUELCONSUMPTION_CITY</th>\n",
       "      <th>FUELCONSUMPTION_HWY</th>\n",
       "      <th>FUELCONSUMPTION_COMB</th>\n",
       "      <th>FUELCONSUMPTION_COMB_MPG</th>\n",
       "      <th>CO2EMISSIONS</th>\n",
       "    </tr>\n",
       "  </thead>\n",
       "  <tbody>\n",
       "    <tr>\n",
       "      <th>0</th>\n",
       "      <td>0</td>\n",
       "      <td>0</td>\n",
       "      <td>2014</td>\n",
       "      <td>ACURA</td>\n",
       "      <td>ILX</td>\n",
       "      <td>COMPACT</td>\n",
       "      <td>-0.973622</td>\n",
       "      <td>-1.024099</td>\n",
       "      <td>AS5</td>\n",
       "      <td>0.0</td>\n",
       "      <td>-0.833605</td>\n",
       "      <td>-0.994870</td>\n",
       "      <td>-0.888216</td>\n",
       "      <td>0.886286</td>\n",
       "      <td>-0.960111</td>\n",
       "    </tr>\n",
       "    <tr>\n",
       "      <th>1</th>\n",
       "      <td>1</td>\n",
       "      <td>1</td>\n",
       "      <td>2014</td>\n",
       "      <td>ACURA</td>\n",
       "      <td>ILX</td>\n",
       "      <td>COMPACT</td>\n",
       "      <td>-0.683744</td>\n",
       "      <td>-1.024099</td>\n",
       "      <td>M6</td>\n",
       "      <td>0.0</td>\n",
       "      <td>-0.519842</td>\n",
       "      <td>-0.641939</td>\n",
       "      <td>-0.576247</td>\n",
       "      <td>0.352882</td>\n",
       "      <td>-0.564949</td>\n",
       "    </tr>\n",
       "    <tr>\n",
       "      <th>2</th>\n",
       "      <td>2</td>\n",
       "      <td>2</td>\n",
       "      <td>2014</td>\n",
       "      <td>ACURA</td>\n",
       "      <td>ILX HYBRID</td>\n",
       "      <td>COMPACT</td>\n",
       "      <td>-1.335970</td>\n",
       "      <td>-1.024099</td>\n",
       "      <td>AV7</td>\n",
       "      <td>0.0</td>\n",
       "      <td>-1.774893</td>\n",
       "      <td>-1.312508</td>\n",
       "      <td>-1.625596</td>\n",
       "      <td>2.886552</td>\n",
       "      <td>-1.908498</td>\n",
       "    </tr>\n",
       "    <tr>\n",
       "      <th>3</th>\n",
       "      <td>4</td>\n",
       "      <td>4</td>\n",
       "      <td>2014</td>\n",
       "      <td>ACURA</td>\n",
       "      <td>RDX AWD</td>\n",
       "      <td>SUV - SMALL</td>\n",
       "      <td>0.113422</td>\n",
       "      <td>0.100355</td>\n",
       "      <td>AS6</td>\n",
       "      <td>0.0</td>\n",
       "      <td>-0.302621</td>\n",
       "      <td>-0.289008</td>\n",
       "      <td>-0.292640</td>\n",
       "      <td>0.086180</td>\n",
       "      <td>-0.201401</td>\n",
       "    </tr>\n",
       "    <tr>\n",
       "      <th>4</th>\n",
       "      <td>5</td>\n",
       "      <td>5</td>\n",
       "      <td>2014</td>\n",
       "      <td>ACURA</td>\n",
       "      <td>RLX</td>\n",
       "      <td>MID-SIZE</td>\n",
       "      <td>0.113422</td>\n",
       "      <td>0.100355</td>\n",
       "      <td>AS6</td>\n",
       "      <td>0.0</td>\n",
       "      <td>-0.350893</td>\n",
       "      <td>-0.641939</td>\n",
       "      <td>-0.462804</td>\n",
       "      <td>0.219531</td>\n",
       "      <td>-0.422691</td>\n",
       "    </tr>\n",
       "    <tr>\n",
       "      <th>...</th>\n",
       "      <td>...</td>\n",
       "      <td>...</td>\n",
       "      <td>...</td>\n",
       "      <td>...</td>\n",
       "      <td>...</td>\n",
       "      <td>...</td>\n",
       "      <td>...</td>\n",
       "      <td>...</td>\n",
       "      <td>...</td>\n",
       "      <td>...</td>\n",
       "      <td>...</td>\n",
       "      <td>...</td>\n",
       "      <td>...</td>\n",
       "      <td>...</td>\n",
       "      <td>...</td>\n",
       "    </tr>\n",
       "    <tr>\n",
       "      <th>959</th>\n",
       "      <td>1062</td>\n",
       "      <td>1062</td>\n",
       "      <td>2014</td>\n",
       "      <td>VOLVO</td>\n",
       "      <td>XC60 AWD</td>\n",
       "      <td>SUV - SMALL</td>\n",
       "      <td>-0.248926</td>\n",
       "      <td>0.100355</td>\n",
       "      <td>AS6</td>\n",
       "      <td>3.0</td>\n",
       "      <td>0.011141</td>\n",
       "      <td>0.099216</td>\n",
       "      <td>0.047690</td>\n",
       "      <td>-0.313873</td>\n",
       "      <td>0.225373</td>\n",
       "    </tr>\n",
       "    <tr>\n",
       "      <th>960</th>\n",
       "      <td>1063</td>\n",
       "      <td>1063</td>\n",
       "      <td>2014</td>\n",
       "      <td>VOLVO</td>\n",
       "      <td>XC60 AWD</td>\n",
       "      <td>SUV - SMALL</td>\n",
       "      <td>-0.103987</td>\n",
       "      <td>0.100355</td>\n",
       "      <td>AS6</td>\n",
       "      <td>3.0</td>\n",
       "      <td>-0.037130</td>\n",
       "      <td>-0.006663</td>\n",
       "      <td>-0.037393</td>\n",
       "      <td>-0.180522</td>\n",
       "      <td>0.114728</td>\n",
       "    </tr>\n",
       "    <tr>\n",
       "      <th>961</th>\n",
       "      <td>1064</td>\n",
       "      <td>1064</td>\n",
       "      <td>2014</td>\n",
       "      <td>VOLVO</td>\n",
       "      <td>XC70 AWD</td>\n",
       "      <td>SUV - SMALL</td>\n",
       "      <td>-0.248926</td>\n",
       "      <td>0.100355</td>\n",
       "      <td>AS6</td>\n",
       "      <td>3.0</td>\n",
       "      <td>0.011141</td>\n",
       "      <td>0.099216</td>\n",
       "      <td>0.047690</td>\n",
       "      <td>-0.313873</td>\n",
       "      <td>0.225373</td>\n",
       "    </tr>\n",
       "    <tr>\n",
       "      <th>962</th>\n",
       "      <td>1065</td>\n",
       "      <td>1065</td>\n",
       "      <td>2014</td>\n",
       "      <td>VOLVO</td>\n",
       "      <td>XC70 AWD</td>\n",
       "      <td>SUV - SMALL</td>\n",
       "      <td>-0.103987</td>\n",
       "      <td>0.100355</td>\n",
       "      <td>AS6</td>\n",
       "      <td>3.0</td>\n",
       "      <td>-0.109537</td>\n",
       "      <td>-0.077249</td>\n",
       "      <td>-0.094114</td>\n",
       "      <td>-0.180522</td>\n",
       "      <td>0.051502</td>\n",
       "    </tr>\n",
       "    <tr>\n",
       "      <th>963</th>\n",
       "      <td>1066</td>\n",
       "      <td>1066</td>\n",
       "      <td>2014</td>\n",
       "      <td>VOLVO</td>\n",
       "      <td>XC90 AWD</td>\n",
       "      <td>SUV - STANDARD</td>\n",
       "      <td>-0.103987</td>\n",
       "      <td>0.100355</td>\n",
       "      <td>AS6</td>\n",
       "      <td>3.0</td>\n",
       "      <td>0.373175</td>\n",
       "      <td>0.240388</td>\n",
       "      <td>0.331297</td>\n",
       "      <td>-0.580575</td>\n",
       "      <td>0.588921</td>\n",
       "    </tr>\n",
       "  </tbody>\n",
       "</table>\n",
       "<p>964 rows × 15 columns</p>\n",
       "</div>"
      ],
      "text/plain": [
       "     index  Unnamed: 0  MODELYEAR   MAKE       MODEL    VEHICLECLASS  \\\n",
       "0        0           0       2014  ACURA         ILX         COMPACT   \n",
       "1        1           1       2014  ACURA         ILX         COMPACT   \n",
       "2        2           2       2014  ACURA  ILX HYBRID         COMPACT   \n",
       "3        4           4       2014  ACURA     RDX AWD     SUV - SMALL   \n",
       "4        5           5       2014  ACURA         RLX        MID-SIZE   \n",
       "..     ...         ...        ...    ...         ...             ...   \n",
       "959   1062        1062       2014  VOLVO    XC60 AWD     SUV - SMALL   \n",
       "960   1063        1063       2014  VOLVO    XC60 AWD     SUV - SMALL   \n",
       "961   1064        1064       2014  VOLVO    XC70 AWD     SUV - SMALL   \n",
       "962   1065        1065       2014  VOLVO    XC70 AWD     SUV - SMALL   \n",
       "963   1066        1066       2014  VOLVO    XC90 AWD  SUV - STANDARD   \n",
       "\n",
       "     ENGINESIZE  CYLINDERS TRANSMISSION  FUELTYPE  FUELCONSUMPTION_CITY  \\\n",
       "0     -0.973622  -1.024099          AS5       0.0             -0.833605   \n",
       "1     -0.683744  -1.024099           M6       0.0             -0.519842   \n",
       "2     -1.335970  -1.024099          AV7       0.0             -1.774893   \n",
       "3      0.113422   0.100355          AS6       0.0             -0.302621   \n",
       "4      0.113422   0.100355          AS6       0.0             -0.350893   \n",
       "..          ...        ...          ...       ...                   ...   \n",
       "959   -0.248926   0.100355          AS6       3.0              0.011141   \n",
       "960   -0.103987   0.100355          AS6       3.0             -0.037130   \n",
       "961   -0.248926   0.100355          AS6       3.0              0.011141   \n",
       "962   -0.103987   0.100355          AS6       3.0             -0.109537   \n",
       "963   -0.103987   0.100355          AS6       3.0              0.373175   \n",
       "\n",
       "     FUELCONSUMPTION_HWY  FUELCONSUMPTION_COMB  FUELCONSUMPTION_COMB_MPG  \\\n",
       "0              -0.994870             -0.888216                  0.886286   \n",
       "1              -0.641939             -0.576247                  0.352882   \n",
       "2              -1.312508             -1.625596                  2.886552   \n",
       "3              -0.289008             -0.292640                  0.086180   \n",
       "4              -0.641939             -0.462804                  0.219531   \n",
       "..                   ...                   ...                       ...   \n",
       "959             0.099216              0.047690                 -0.313873   \n",
       "960            -0.006663             -0.037393                 -0.180522   \n",
       "961             0.099216              0.047690                 -0.313873   \n",
       "962            -0.077249             -0.094114                 -0.180522   \n",
       "963             0.240388              0.331297                 -0.580575   \n",
       "\n",
       "     CO2EMISSIONS  \n",
       "0       -0.960111  \n",
       "1       -0.564949  \n",
       "2       -1.908498  \n",
       "3       -0.201401  \n",
       "4       -0.422691  \n",
       "..            ...  \n",
       "959      0.225373  \n",
       "960      0.114728  \n",
       "961      0.225373  \n",
       "962      0.051502  \n",
       "963      0.588921  \n",
       "\n",
       "[964 rows x 15 columns]"
      ]
     },
     "execution_count": 25,
     "metadata": {},
     "output_type": "execute_result"
    }
   ],
   "source": [
    "DataFt['ENGINESIZE'] = (DataFt['ENGINESIZE'] - DataFt['ENGINESIZE'].mean())/DataFt['ENGINESIZE'].std()\n",
    "DataFt['CYLINDERS'] = (DataFt['CYLINDERS'] - DataFt['CYLINDERS'].mean())/DataFt['CYLINDERS'].std()\n",
    "DataFt['FUELCONSUMPTION_CITY'] = (DataFt['FUELCONSUMPTION_CITY'] - DataFt['FUELCONSUMPTION_CITY'].mean())/DataFt['FUELCONSUMPTION_CITY'].std()\n",
    "DataFt['FUELCONSUMPTION_HWY'] = (DataFt['FUELCONSUMPTION_HWY'] - DataFt['FUELCONSUMPTION_HWY'].mean())/DataFt['FUELCONSUMPTION_HWY'].std()\n",
    "DataFt['FUELCONSUMPTION_COMB'] = (DataFt['FUELCONSUMPTION_COMB'] - DataFt['FUELCONSUMPTION_COMB'].mean())/DataFt['FUELCONSUMPTION_COMB'].std()\n",
    "DataFt['FUELCONSUMPTION_COMB_MPG'] = (DataFt['FUELCONSUMPTION_COMB_MPG'] - DataFt['FUELCONSUMPTION_COMB_MPG'].mean()) / DataFt['FUELCONSUMPTION_COMB_MPG'].std()\n",
    "DataFt['CO2EMISSIONS'] = (DataFt['CO2EMISSIONS'] - DataFt['CO2EMISSIONS'].mean())/DataFt['CO2EMISSIONS'].std()\n",
    "\n",
    "DataFt"
   ]
  },
  {
   "cell_type": "markdown",
   "id": "9021bc7c",
   "metadata": {},
   "source": [
    "## بخش هشتم\n",
    "### در زیر نمودار های خواسته شده برای هر ویژگی را رسم کردیم"
   ]
  },
  {
   "cell_type": "code",
   "execution_count": 26,
   "id": "b6fd9375",
   "metadata": {},
   "outputs": [
    {
     "data": {
      "image/png": "[encoded data removed]",
      "text/plain": [
       "<Figure size 432x288 with 1 Axes>"
      ]
     },
     "metadata": {
      "needs_background": "light"
     },
     "output_type": "display_data"
    }
   ],
   "source": [
    "import matplotlib.pyplot as plt\n",
    "\n",
    "plt.scatter(DataFt['ENGINESIZE'], DataFt['CO2EMISSIONS'])\n",
    "plt.title(\"ENGINESIZE vs CO2EMISSIONS\")\n",
    "plt.ylabel(\"CO2EMISSIONS\")\n",
    "plt.xlabel(\"ENGINESIZE\")\n",
    "plt.show()"
   ]
  },
  {
   "cell_type": "code",
   "execution_count": 27,
   "id": "d1aea6df",
   "metadata": {},
   "outputs": [
    {
     "data": {
      "image/png": "[encoded data removed]",
      "text/plain": [
       "<Figure size 432x288 with 1 Axes>"
      ]
     },
     "metadata": {
      "needs_background": "light"
     },
     "output_type": "display_data"
    }
   ],
   "source": [
    "plt.scatter(DataFt['CYLINDERS'], DataFt['CO2EMISSIONS'])\n",
    "plt.title(\"CYLINDERS vs CO2EMISSIONS\")\n",
    "plt.ylabel(\"CO2EMISSIONS\")\n",
    "plt.xlabel(\"CYLINDERS\")\n",
    "plt.show()"
   ]
  },
  {
   "cell_type": "code",
   "execution_count": 28,
   "id": "55b9b670",
   "metadata": {},
   "outputs": [
    {
     "data": {
      "image/png": "[encoded data removed]",
      "text/plain": [
       "<Figure size 432x288 with 1 Axes>"
      ]
     },
     "metadata": {
      "needs_background": "light"
     },
     "output_type": "display_data"
    }
   ],
   "source": [
    "plt.scatter(DataFt['FUELCONSUMPTION_CITY'], DataFt['CO2EMISSIONS'])\n",
    "plt.title(\"FUELCONSUMPTION_CITY vs CO2EMISSIONS\")\n",
    "plt.ylabel(\"CO2EMISSIONS\")\n",
    "plt.xlabel(\"FUELCONSUMPTION_CITY\")\n",
    "plt.show()"
   ]
  },
  {
   "cell_type": "code",
   "execution_count": 29,
   "id": "65dd6b7c",
   "metadata": {},
   "outputs": [
    {
     "data": {
      "image/png": "[encoded data removed]",
      "text/plain": [
       "<Figure size 432x288 with 1 Axes>"
      ]
     },
     "metadata": {
      "needs_background": "light"
     },
     "output_type": "display_data"
    }
   ],
   "source": [
    "plt.scatter(DataFt['FUELCONSUMPTION_HWY'], DataFt['CO2EMISSIONS'])\n",
    "plt.title(\"FUELCONSUMPTION_HWY vs CO2EMISSIONS\")\n",
    "plt.ylabel(\"CO2EMISSIONS\")\n",
    "plt.xlabel(\"FUELCONSUMPTION_HWY\")\n",
    "plt.show()"
   ]
  },
  {
   "cell_type": "code",
   "execution_count": 30,
   "id": "5aafa9a8",
   "metadata": {},
   "outputs": [
    {
     "data": {
      "image/png": "[encoded data removed]",
      "text/plain": [
       "<Figure size 432x288 with 1 Axes>"
      ]
     },
     "metadata": {
      "needs_background": "light"
     },
     "output_type": "display_data"
    }
   ],
   "source": [
    "plt.scatter(DataFt['FUELCONSUMPTION_COMB'], DataFt['CO2EMISSIONS'])\n",
    "plt.title(\"FUELCONSUMPTION_COMB vs CO2EMISSIONS\")\n",
    "plt.ylabel(\"CO2EMISSIONS\")\n",
    "plt.xlabel(\"FUELCONSUMPTION_COMB\")\n",
    "plt.show()"
   ]
  },
  {
   "cell_type": "code",
   "execution_count": 31,
   "id": "dd12b5e8",
   "metadata": {},
   "outputs": [
    {
     "data": {
      "image/png": "[encoded data removed]",
      "text/plain": [
       "<Figure size 432x288 with 1 Axes>"
      ]
     },
     "metadata": {
      "needs_background": "light"
     },
     "output_type": "display_data"
    }
   ],
   "source": [
    "plt.scatter(DataFt['FUELCONSUMPTION_COMB_MPG'], DataFt['CO2EMISSIONS'])\n",
    "plt.title(\"FUELCONSUMPTION_COMB_MPG vs CO2EMISSIONS\")\n",
    "plt.ylabel(\"CO2EMISSIONS\")\n",
    "plt.xlabel(\"FUELCONSUMPTION_COMB_MPG\")\n",
    "plt.show()"
   ]
  },
  {
   "cell_type": "markdown",
   "id": "d6355d95",
   "metadata": {},
   "source": [
    "#### طبق نمودارها به نظر میرسد که مقدار مصرف سوخت ترکیبی در واحد مایل/گالن بیشترین هم بستگی را داشته باشد حال انتخاب خود را توجیه میکنیم\n",
    "#### برای به دست آوردن ویژگی با بیشترین میزان همبستگی با مقدار کربن دی اکسید خروجی از ماتریس همبستگی استفاده میکنیم. اگر یک ویژگی دارای هم بستگی نزدیک 1 یا 1- باشد خطی تر از سایر ویژگی ها است. همانطور که مشاهده میکنید بیشترین همبستگی را ویژگی مقدار مصرف سوخت ترکیبی در واحد مایل/گالن و هم بستگی آن نزدیک به 1- است."
   ]
  },
  {
   "cell_type": "code",
   "execution_count": 32,
   "id": "d3002f9e",
   "metadata": {},
   "outputs": [
    {
     "data": {
      "text/plain": [
       "FUELCONSUMPTION_COMB_MPG   -0.905606\n",
       "index                      -0.189839\n",
       "Unnamed: 0                 -0.189839\n",
       "FUELTYPE                   -0.176800\n",
       "CYLINDERS                   0.836442\n",
       "FUELCONSUMPTION_HWY         0.858261\n",
       "ENGINESIZE                  0.859528\n",
       "FUELCONSUMPTION_COMB        0.888687\n",
       "FUELCONSUMPTION_CITY        0.894860\n",
       "CO2EMISSIONS                1.000000\n",
       "MODELYEAR                        NaN\n",
       "Name: CO2EMISSIONS, dtype: float64"
      ]
     },
     "execution_count": 32,
     "metadata": {},
     "output_type": "execute_result"
    }
   ],
   "source": [
    "DataFt.corr()['CO2EMISSIONS'].sort_values()"
   ]
  },
  {
   "cell_type": "markdown",
   "id": "7dc27bb0",
   "metadata": {},
   "source": [
    "## بخش نهم"
   ]
  },
  {
   "cell_type": "code",
   "execution_count": 33,
   "id": "69a3bddf",
   "metadata": {},
   "outputs": [
    {
     "data": {
      "text/html": [
       "<div>\n",
       "<style scoped>\n",
       "    .dataframe tbody tr th:only-of-type {\n",
       "        vertical-align: middle;\n",
       "    }\n",
       "\n",
       "    .dataframe tbody tr th {\n",
       "        vertical-align: top;\n",
       "    }\n",
       "\n",
       "    .dataframe thead th {\n",
       "        text-align: right;\n",
       "    }\n",
       "</style>\n",
       "<table border=\"1\" class=\"dataframe\">\n",
       "  <thead>\n",
       "    <tr style=\"text-align: right;\">\n",
       "      <th></th>\n",
       "      <th>FUELCONSUMPTION_COMB_MPG</th>\n",
       "      <th>CO2EMISSIONS</th>\n",
       "    </tr>\n",
       "  </thead>\n",
       "  <tbody>\n",
       "    <tr>\n",
       "      <th>0</th>\n",
       "      <td>0.886286</td>\n",
       "      <td>-0.960111</td>\n",
       "    </tr>\n",
       "    <tr>\n",
       "      <th>1</th>\n",
       "      <td>0.352882</td>\n",
       "      <td>-0.564949</td>\n",
       "    </tr>\n",
       "    <tr>\n",
       "      <th>2</th>\n",
       "      <td>2.886552</td>\n",
       "      <td>-1.908498</td>\n",
       "    </tr>\n",
       "    <tr>\n",
       "      <th>3</th>\n",
       "      <td>0.086180</td>\n",
       "      <td>-0.201401</td>\n",
       "    </tr>\n",
       "    <tr>\n",
       "      <th>4</th>\n",
       "      <td>0.219531</td>\n",
       "      <td>-0.422691</td>\n",
       "    </tr>\n",
       "    <tr>\n",
       "      <th>...</th>\n",
       "      <td>...</td>\n",
       "      <td>...</td>\n",
       "    </tr>\n",
       "    <tr>\n",
       "      <th>959</th>\n",
       "      <td>-0.313873</td>\n",
       "      <td>0.225373</td>\n",
       "    </tr>\n",
       "    <tr>\n",
       "      <th>960</th>\n",
       "      <td>-0.180522</td>\n",
       "      <td>0.114728</td>\n",
       "    </tr>\n",
       "    <tr>\n",
       "      <th>961</th>\n",
       "      <td>-0.313873</td>\n",
       "      <td>0.225373</td>\n",
       "    </tr>\n",
       "    <tr>\n",
       "      <th>962</th>\n",
       "      <td>-0.180522</td>\n",
       "      <td>0.051502</td>\n",
       "    </tr>\n",
       "    <tr>\n",
       "      <th>963</th>\n",
       "      <td>-0.580575</td>\n",
       "      <td>0.588921</td>\n",
       "    </tr>\n",
       "  </tbody>\n",
       "</table>\n",
       "<p>964 rows × 2 columns</p>\n",
       "</div>"
      ],
      "text/plain": [
       "     FUELCONSUMPTION_COMB_MPG  CO2EMISSIONS\n",
       "0                    0.886286     -0.960111\n",
       "1                    0.352882     -0.564949\n",
       "2                    2.886552     -1.908498\n",
       "3                    0.086180     -0.201401\n",
       "4                    0.219531     -0.422691\n",
       "..                        ...           ...\n",
       "959                 -0.313873      0.225373\n",
       "960                 -0.180522      0.114728\n",
       "961                 -0.313873      0.225373\n",
       "962                 -0.180522      0.051502\n",
       "963                 -0.580575      0.588921\n",
       "\n",
       "[964 rows x 2 columns]"
      ]
     },
     "execution_count": 33,
     "metadata": {},
     "output_type": "execute_result"
    }
   ],
   "source": [
    "DataF9 = DataFt[['FUELCONSUMPTION_COMB_MPG', 'CO2EMISSIONS']]\n",
    "DataF9"
   ]
  },
  {
   "cell_type": "markdown",
   "id": "b0c94a8c",
   "metadata": {},
   "source": [
    "## بخش دهم"
   ]
  },
  {
   "cell_type": "markdown",
   "id": "2238fdd6",
   "metadata": {},
   "source": [
    "#### را تعریف میکنیم ht تابع "
   ]
  },
  {
   "cell_type": "code",
   "execution_count": 34,
   "id": "42dd8aa5",
   "metadata": {},
   "outputs": [],
   "source": [
    "def htprd(t1 , t0, x):\n",
    "    out = [t1*i + t0 for i in x]\n",
    "    return out"
   ]
  },
  {
   "cell_type": "markdown",
   "id": "50fa2ace",
   "metadata": {},
   "source": [
    "#### را تعریف میکنیم mse تابع"
   ]
  },
  {
   "cell_type": "code",
   "execution_count": 35,
   "id": "e496f2f4",
   "metadata": {},
   "outputs": [],
   "source": [
    "def mse(yi, ht):\n",
    "    n = len(yi)\n",
    "    pw = sum(pow((yi - ht), 2))\n",
    "    s = pw / n\n",
    "    return s  "
   ]
  },
  {
   "cell_type": "markdown",
   "id": "fdfe1a86",
   "metadata": {},
   "source": [
    "#### ابتدا شیب و عرض از مبدا را با استفاده از فرمول \n",
    "#### Y = XA + E\n",
    "#### به دست می آوریم و در تابع تخمین گر قرار میدهیم."
   ]
  },
  {
   "cell_type": "code",
   "execution_count": 36,
   "id": "5713d2d7",
   "metadata": {},
   "outputs": [],
   "source": [
    "def slin(data):\n",
    "\n",
    "    C=[]\n",
    "    C = np.full((len(data['FUELCONSUMPTION_COMB_MPG']),1),1)\n",
    "\n",
    "    X = np.column_stack((C,data['FUELCONSUMPTION_COMB_MPG']))\n",
    "    Xt = X.transpose()\n",
    "          \n",
    "    xtx = np.dot(Xt, X)\n",
    "    xtxi = np.linalg.inv(xtx)\n",
    "\n",
    "    xty = np.dot(Xt,  data['CO2EMISSIONS'])\n",
    "\n",
    "    cal = np.dot(xtxi, xty)\n",
    "    return cal\n",
    "\n",
    "cal = slin(DataF9)\n",
    "intercept = cal[0]\n",
    "slope = cal[1]"
   ]
  },
  {
   "cell_type": "code",
   "execution_count": 37,
   "id": "a626ddb6",
   "metadata": {},
   "outputs": [],
   "source": [
    "yi = htprd(slope , intercept, DataF9['FUELCONSUMPTION_COMB_MPG'])"
   ]
  },
  {
   "cell_type": "markdown",
   "id": "756afb2a",
   "metadata": {},
   "source": [
    "#### بعد از تعریف توابع حال درصد خطای تابع تخمین گر را با داده هایی که هدفشان مشخص است چک میکنیم"
   ]
  },
  {
   "cell_type": "code",
   "execution_count": 38,
   "id": "03a86931",
   "metadata": {},
   "outputs": [
    {
     "name": "stdout",
     "output_type": "stream",
     "text": [
      "0.17969142412250538\n"
     ]
    }
   ],
   "source": [
    "error = mse(yi, (DataF9['CO2EMISSIONS']))\n",
    "print(error)"
   ]
  },
  {
   "cell_type": "markdown",
   "id": "fbe3974a",
   "metadata": {},
   "source": [
    "#### کم تر از 0.5 شد mse همانطور که میبینید خروجی تابع"
   ]
  },
  {
   "cell_type": "markdown",
   "id": "4c624000",
   "metadata": {},
   "source": [
    "## بخش یازدهم"
   ]
  },
  {
   "cell_type": "code",
   "execution_count": 39,
   "id": "18a088c7",
   "metadata": {},
   "outputs": [
    {
     "data": {
      "image/png": "[encoded data removed]",
      "text/plain": [
       "<Figure size 432x288 with 1 Axes>"
      ]
     },
     "metadata": {
      "needs_background": "light"
     },
     "output_type": "display_data"
    }
   ],
   "source": [
    "plt.scatter(DataF9['FUELCONSUMPTION_COMB_MPG'], DataF9['CO2EMISSIONS'])\n",
    "plt.title(\"Comparison\")\n",
    "plt.plot(DataF9['FUELCONSUMPTION_COMB_MPG'], yi, c = 'r')\n",
    "plt.show()"
   ]
  },
  {
   "cell_type": "markdown",
   "id": "17d5dcdb",
   "metadata": {},
   "source": [
    "#### همانطور که در شکل بالا مشاهده میکنید به طور متوسط نمودار تخمین گر بر نمودار مقدار مصرف سوخت ترکیبی در واحد مایل/گالن منطبق است ولی در همه ی نمودار اینگونه نیست و حدودی نمودار را میپوشاند\n"
   ]
  },
  {
   "cell_type": "markdown",
   "id": "5026dbeb",
   "metadata": {},
   "source": [
    "## بخش دوازدهم\n",
    "#### خطای کپی را حذف میکنیم warning  با استفاده از تابع"
   ]
  },
  {
   "cell_type": "code",
   "execution_count": 40,
   "id": "f3b9648c",
   "metadata": {
    "scrolled": false
   },
   "outputs": [
    {
     "name": "stdout",
     "output_type": "stream",
     "text": [
      "      Unnamed: 0  MODELYEAR        MAKE                MODEL    VEHICLECLASS  \\\n",
      "3              3       2014       ACURA              MDX 4WD     SUV - SMALL   \n",
      "20            20       2014        AUDI           A4 QUATTRO         COMPACT   \n",
      "30            30       2014        AUDI                   A8        MID-SIZE   \n",
      "42            42       2014        AUDI                   Q7  SUV - STANDARD   \n",
      "43            43       2014        AUDI  Q7 TDI CLEAN DIESEL  SUV - STANDARD   \n",
      "...          ...        ...         ...                  ...             ...   \n",
      "1022        1022       2014  VOLKSWAGEN   BEETLE CONVERTIBLE      SUBCOMPACT   \n",
      "1027        1027       2014  VOLKSWAGEN                   CC         COMPACT   \n",
      "1051        1051       2014  VOLKSWAGEN               TIGUAN     SUV - SMALL   \n",
      "1052        1052       2014  VOLKSWAGEN               TIGUAN     SUV - SMALL   \n",
      "1053        1053       2014  VOLKSWAGEN       TIGUAN 4MOTION     SUV - SMALL   \n",
      "\n",
      "      ENGINESIZE  CYLINDERS TRANSMISSION  FUELTYPE  FUELCONSUMPTION_CITY  \\\n",
      "3            3.5   6.000000          AS6   0.00000                  12.7   \n",
      "20           2.0   4.000000          AS8   0.00000                  11.5   \n",
      "30           3.0   6.000000          AS8   1.63253                  13.1   \n",
      "42           3.0   5.797677          AS8   0.00000                  15.1   \n",
      "43           3.0   6.000000          AS8   1.00000                  12.9   \n",
      "...          ...        ...          ...       ...                   ...   \n",
      "1022         2.0   4.000000           M6   0.00000                  10.8   \n",
      "1027         2.0   4.000000           M6   0.00000                  11.6   \n",
      "1051         2.0   4.000000           A6   0.00000                  11.7   \n",
      "1052         2.0   4.000000           M6   0.00000                  13.6   \n",
      "1053         2.0   4.000000           A6   0.00000                  11.7   \n",
      "\n",
      "      FUELCONSUMPTION_HWY  FUELCONSUMPTION_COMB  FUELCONSUMPTION_COMB_MPG  \\\n",
      "3                     9.1                  11.1                        25   \n",
      "20                    8.1                  10.0                        28   \n",
      "30                    8.8                  11.2                        25   \n",
      "42                   10.9                  13.2                        21   \n",
      "43                    8.4                  10.9                        26   \n",
      "...                   ...                   ...                       ...   \n",
      "1022                  7.6                   9.4                        30   \n",
      "1027                  7.7                   9.8                        29   \n",
      "1051                  9.5                  10.7                        26   \n",
      "1052                  9.2                  11.6                        24   \n",
      "1053                  9.4                  10.7                        26   \n",
      "\n",
      "      CO2EMISSIONS  \n",
      "3       274.838135  \n",
      "20      250.839002  \n",
      "30      274.838135  \n",
      "42      306.836978  \n",
      "43      266.838424  \n",
      "...            ...  \n",
      "1022    234.839580  \n",
      "1027    242.839291  \n",
      "1051    266.838424  \n",
      "1052    282.837846  \n",
      "1053    266.838424  \n",
      "\n",
      "[103 rows x 14 columns]\n"
     ]
    }
   ],
   "source": [
    "import warnings\n",
    "warnings.filterwarnings('ignore')\n",
    "\n",
    "DataFt1 = DataF.dropna(subset = ['CO2EMISSIONS'])\n",
    "DataFt1 = DataFt1.reset_index()\n",
    "\n",
    "n_DataFn = (n_DataF['FUELCONSUMPTION_COMB_MPG']-n_DataF['FUELCONSUMPTION_COMB_MPG'].mean())/n_DataF['FUELCONSUMPTION_COMB_MPG'].std()\n",
    "predicted = htprd(slope , intercept, n_DataFn)\n",
    "n_DataF.loc[:, 'CO2EMISSIONS'] = predicted\n",
    "\n",
    "n_DataF.loc[:, 'CO2EMISSIONS'] = n_DataF['CO2EMISSIONS']*DataFt1['CO2EMISSIONS'].std() + DataFt1['CO2EMISSIONS'].mean()\n",
    "print(n_DataF)"
   ]
  },
  {
   "cell_type": "markdown",
   "id": "a2574416",
   "metadata": {},
   "source": [
    "#### چون در قسمت سوم نرمال سازی نکرده بودیم داده ها را نرمال سازی کرده و به تابع تخمین گر میدهیم و سپس در نهایت دوباره به حالت اول خود برمیگردانیم"
   ]
  },
  {
   "cell_type": "code",
   "execution_count": 41,
   "id": "0c82caab",
   "metadata": {},
   "outputs": [],
   "source": [
    "n_DataF.to_csv('result.csv')"
   ]
  },
  {
   "cell_type": "markdown",
   "id": "daa6945c",
   "metadata": {},
   "source": [
    "#### در انتها داده ها را در یک فایل جدید ذخیره میکنیم. در مواجهه با مسائل و داده های واقعی ممکن است خیلی از پارامتر ها ناموجود باشند که برای به دست آوردن دقیق تر نتیجه ی تحقیقات باید به درستی آن ها را مشخص کرد. در این پروژه ما به وسیله ی توابع و روش هایی داده های نامشخصمان را پیش بینی کرده و جایگزینشان کردیم\n"
   ]
  }
 ],
 "metadata": {
  "kernelspec": {
   "display_name": "Python 3 (ipykernel)",
   "language": "python",
   "name": "python3"
  },
  "language_info": {
   "codemirror_mode": {
    "name": "ipython",
    "version": 3
   },
   "file_extension": ".py",
   "mimetype": "text/x-python",
   "name": "python",
   "nbconvert_exporter": "python",
   "pygments_lexer": "ipython3",
   "version": "3.8.5"
  }
 },
 "nbformat": 4,
 "nbformat_minor": 5
}
